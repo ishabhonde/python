{
 "cells": [
  {
   "cell_type": "markdown",
   "id": "5016f629-1d83-4115-b6da-3040f7314df9",
   "metadata": {},
   "source": [
    "#### 1.User-Defined Function (5 Questions)"
   ]
  },
  {
   "cell_type": "markdown",
   "id": "d0168597-1691-4f76-89df-863e487e3434",
   "metadata": {},
   "source": [
    "##### 1.Write a function to calculate the factorial of a number (without recursion). "
   ]
  },
  {
   "cell_type": "code",
   "execution_count": 6,
   "id": "648f057e-43b3-407f-b506-728a121b28f1",
   "metadata": {},
   "outputs": [
    {
     "name": "stdout",
     "output_type": "stream",
     "text": [
      "120\n"
     ]
    }
   ],
   "source": [
    "def factorial(n):\n",
    "    \"\"\"\n",
    "    Calculate the factorial of a non-negative integer n.\n",
    "\n",
    "    Parameters:\n",
    "    n (int): The number to calculate the factorial for.\n",
    "\n",
    "    Returns:\n",
    "    int: The factorial of n.\n",
    "    \"\"\"\n",
    "    if n < 0:\n",
    "        raise ValueError(\"Factorial is not defined for negative numbers\")\n",
    "    if n == 0 or n == 1:\n",
    "        return 1\n",
    "    return n * factorial(n - 1)\n",
    "print (factorial(5))"
   ]
  },
  {
   "cell_type": "markdown",
   "id": "fc4a95a8-3c58-435c-91d9-4ee28131499f",
   "metadata": {},
   "source": [
    "##### 2.Write a function to check if a number is Armstrong or not. "
   ]
  },
  {
   "cell_type": "code",
   "execution_count": 1,
   "id": "7bdc449d-abd8-48fb-a74f-8db7d809d7d1",
   "metadata": {},
   "outputs": [
    {
     "name": "stdout",
     "output_type": "stream",
     "text": [
      "153 is an Armstrong number.\n"
     ]
    }
   ],
   "source": [
    "def is_armstrong(number):\n",
    "    digits = str(number)\n",
    "    num_digits = len(digits)\n",
    "    armstrong_sum = sum(int(digit) ** num_digits for digit in digits)\n",
    "    return armstrong_sum == number\n",
    "\n",
    "num = 153\n",
    "if is_armstrong(num):\n",
    "    print(f\"{num} is an Armstrong number.\")\n",
    "else:\n",
    "    print(f\"{num} is not an Armstrong number.\")"
   ]
  },
  {
   "cell_type": "markdown",
   "id": "33e1172d-83ad-4a32-b105-780a14d13e30",
   "metadata": {},
   "source": [
    "##### 3.Write a function that takes a list of numbers and returns only even numbers. "
   ]
  },
  {
   "cell_type": "code",
   "execution_count": 8,
   "id": "ecbc16a6-8d88-48cf-88ec-63f3acf8502d",
   "metadata": {},
   "outputs": [],
   "source": [
    "def get_even_numbers(numbers):\n",
    "    \"\"\"\n",
    "    Return a list of even numbers from the given list.\n",
    "\n",
    "    Parameters:\n",
    "    numbers (list): A list of integers.\n",
    "\n",
    "    Returns:\n",
    "    list: A list containing only the even numbers.\n",
    "    \"\"\"\n",
    "    return [num for num in numbers if num % 2 == 0]"
   ]
  },
  {
   "cell_type": "code",
   "execution_count": 10,
   "id": "aa3f9b29-3320-4841-a54c-ab3d0795d2ef",
   "metadata": {},
   "outputs": [
    {
     "name": "stdout",
     "output_type": "stream",
     "text": [
      "[2, 4, 6, 8, 10]\n"
     ]
    }
   ],
   "source": [
    "nums = [1, 2, 3, 4,5, 6, 7, 8, 9, 10]\n",
    "even_nums = get_even_numbers(nums)\n",
    "print(even_nums)"
   ]
  },
  {
   "cell_type": "markdown",
   "id": "7d10c868-0deb-4087-bf26-45cad198b770",
   "metadata": {},
   "source": [
    "##### 4.Write a function that takes a string and returns the reverse of the string. "
   ]
  },
  {
   "cell_type": "code",
   "execution_count": 11,
   "id": "c9510663-3f11-40bc-bec0-cb288090bda2",
   "metadata": {},
   "outputs": [],
   "source": [
    "def reverse_string(s):\n",
    "    \"\"\"\n",
    "    Reverse the input string.\n",
    "\n",
    "    Parameters:\n",
    "    s (str): The string to reverse.\n",
    "\n",
    "    Returns:\n",
    "    str: The reversed string.\n",
    "    \"\"\"\n",
    "    return s[::-1]"
   ]
  },
  {
   "cell_type": "code",
   "execution_count": 12,
   "id": "bfa3f0c2-1b85-46b2-9ab3-337becb079ca",
   "metadata": {},
   "outputs": [
    {
     "data": {
      "text/plain": [
       "'nohtyP'"
      ]
     },
     "execution_count": 12,
     "metadata": {},
     "output_type": "execute_result"
    }
   ],
   "source": [
    "reverse_string(\"Python\")"
   ]
  },
  {
   "cell_type": "markdown",
   "id": "e8ac027d-4151-4d6c-8641-f85087d57fa8",
   "metadata": {},
   "source": [
    "##### 5.Write a recursive function to calculate Fibonacci series up to n terms."
   ]
  },
  {
   "cell_type": "code",
   "execution_count": 1,
   "id": "c249b1c5-234d-4ce8-b225-104eca3d51ad",
   "metadata": {},
   "outputs": [
    {
     "name": "stdout",
     "output_type": "stream",
     "text": [
      "0 1 1 2 3 5 8 13 21 34 "
     ]
    }
   ],
   "source": [
    "a, b = 0, 1\n",
    "for _ in range(10):\n",
    "    print(a, end=\" \")\n",
    "    a, b = b, a + b"
   ]
  },
  {
   "cell_type": "markdown",
   "id": "fb758e1a-241e-45b4-94d8-b41f39e6d1c4",
   "metadata": {},
   "source": [
    "#### 2.Lambda Function (5 Questions) "
   ]
  },
  {
   "cell_type": "markdown",
   "id": "218343a2-c343-4d2f-9443-9d61e65c72dc",
   "metadata": {},
   "source": [
    "##### 6.Write a lambda function to find the maximum of two numbers."
   ]
  },
  {
   "cell_type": "code",
   "execution_count": 19,
   "id": "6f7c4db4-7252-42d9-a5e3-1546aae07d00",
   "metadata": {},
   "outputs": [],
   "source": [
    "a = lambda var : var*2"
   ]
  },
  {
   "cell_type": "code",
   "execution_count": 20,
   "id": "e0ad49b5-3e8a-462c-b58f-4af553b3f69c",
   "metadata": {},
   "outputs": [
    {
     "data": {
      "text/plain": [
       "12"
      ]
     },
     "execution_count": 20,
     "metadata": {},
     "output_type": "execute_result"
    }
   ],
   "source": [
    "a(6)"
   ]
  },
  {
   "cell_type": "code",
   "execution_count": 21,
   "id": "e583629f-902b-488d-b092-608153836585",
   "metadata": {},
   "outputs": [],
   "source": [
    "b = lambda var : var*2"
   ]
  },
  {
   "cell_type": "code",
   "execution_count": 22,
   "id": "e85aebe3-ed69-4481-93ab-2a7a716cd28e",
   "metadata": {},
   "outputs": [
    {
     "data": {
      "text/plain": [
       "14"
      ]
     },
     "execution_count": 22,
     "metadata": {},
     "output_type": "execute_result"
    }
   ],
   "source": [
    "b(7)"
   ]
  },
  {
   "cell_type": "markdown",
   "id": "708e5c83-29c5-4207-8aa9-a7404aaebac4",
   "metadata": {},
   "source": [
    "##### 7.Write a lambda function to count vowels in a given string."
   ]
  },
  {
   "cell_type": "code",
   "execution_count": 23,
   "id": "c350ca28-38f9-4d31-b025-1d5c3d625c8b",
   "metadata": {},
   "outputs": [
    {
     "name": "stdout",
     "output_type": "stream",
     "text": [
      "Number of vowels: 12\n"
     ]
    }
   ],
   "source": [
    "str1 = 'python is a data science language'\n",
    "count_vowels = lambda s: len(list(filter(lambda char: char.lower() in 'aeiou', s)))\n",
    "print(\"Number of vowels:\", count_vowels(str1))"
   ]
  },
  {
   "cell_type": "markdown",
   "id": "9c7956b2-f30d-4bf1-88fb-507d129745b8",
   "metadata": {},
   "source": [
    "##### 8.Use a lambda with map() to convert a list of integers into their cubes"
   ]
  },
  {
   "cell_type": "code",
   "execution_count": 24,
   "id": "b4eeb69e-01b8-441c-9bd1-8a9bb4b2ca31",
   "metadata": {},
   "outputs": [
    {
     "name": "stdout",
     "output_type": "stream",
     "text": [
      "[1, 8, 27, 64, 125]\n"
     ]
    }
   ],
   "source": [
    "numbers = [1, 2, 3, 4, 5]\n",
    "cubes = list(map(lambda x: x**3, numbers))\n",
    "print(cubes) "
   ]
  },
  {
   "cell_type": "markdown",
   "id": "0a2fd977-979b-4f2a-a78e-a9c003a3fb61",
   "metadata": {},
   "source": [
    "##### 9.Use a lambda with filter() to find numbers divisible by 5 from a list. "
   ]
  },
  {
   "cell_type": "code",
   "execution_count": 25,
   "id": "de47618a-7c4f-4670-9fa2-aa602c7e91ef",
   "metadata": {},
   "outputs": [
    {
     "name": "stdout",
     "output_type": "stream",
     "text": [
      "[10, 15, 20, 55, 30, 85, 50, 25]\n"
     ]
    }
   ],
   "source": [
    "numbers = [10,15,20,55,30,85,74,50,25]\n",
    "divisible_by_5 = list(filter(lambda x: x % 5 == 0, numbers))\n",
    "print(divisible_by_5)"
   ]
  },
  {
   "cell_type": "markdown",
   "id": "d796585e-63a1-4789-895c-2601a83b8dc6",
   "metadata": {},
   "source": [
    "##### 10.Use reduce() with lambda to find the product of all numbers in a list. "
   ]
  },
  {
   "cell_type": "code",
   "execution_count": 36,
   "id": "0b99da37-37e9-4387-bf2e-a46b9ec114a2",
   "metadata": {},
   "outputs": [
    {
     "name": "stdout",
     "output_type": "stream",
     "text": [
      "Numbers: [2, 3, 4, 5, 6]\n",
      "Product: 720\n"
     ]
    }
   ],
   "source": [
    "from functools import reduce\n",
    "numbers = [2,3,4,5,6]\n",
    "reduce(lambda x, y: x* y, numbers)\n",
    "product = reduce(lambda x, y: x * y, numbers)\n",
    "print(f\"Numbers: {numbers}\")\n",
    "print(f\"Product: {product}\")"
   ]
  },
  {
   "cell_type": "markdown",
   "id": "d1783db4-599b-4794-b50e-3bccd24c125c",
   "metadata": {},
   "source": [
    "#### 3.List comprehension(5 Question)"
   ]
  },
  {
   "cell_type": "markdown",
   "id": "a9bf858e-c998-40ea-8ddb-401c68baab89",
   "metadata": {},
   "source": [
    "##### 11.Create list of squares of numbers from 1 to 20 using list comprehension."
   ]
  },
  {
   "cell_type": "code",
   "execution_count": 27,
   "id": "8a12566f-14f1-47db-88d3-411bc8168fbb",
   "metadata": {},
   "outputs": [],
   "source": [
    "l1 = [0,1,2,3,4,5,6,7,8,9,]  "
   ]
  },
  {
   "cell_type": "code",
   "execution_count": 31,
   "id": "726270a0-b6a2-4097-b38f-0450b3788d59",
   "metadata": {},
   "outputs": [
    {
     "data": {
      "text/plain": [
       "[0, 1, 2, 3, 4, 5, 6, 7, 8, 9]"
      ]
     },
     "execution_count": 31,
     "metadata": {},
     "output_type": "execute_result"
    }
   ],
   "source": [
    "[i for i in range(10)]"
   ]
  },
  {
   "cell_type": "code",
   "execution_count": 32,
   "id": "41f7c575-be6c-4d68-8c39-87a9d75c075f",
   "metadata": {},
   "outputs": [
    {
     "data": {
      "text/plain": [
       "[0, 1, 4, 9, 16, 25, 36, 49, 64, 81]"
      ]
     },
     "execution_count": 32,
     "metadata": {},
     "output_type": "execute_result"
    }
   ],
   "source": [
    "[i**2 for i in range(10)]"
   ]
  },
  {
   "cell_type": "markdown",
   "id": "59812b82-82a5-4d58-aab7-bed1a40552b9",
   "metadata": {},
   "source": [
    "##### 12.Extract all words starting with vowel from a list of words."
   ]
  },
  {
   "cell_type": "code",
   "execution_count": 33,
   "id": "1c532e9a-79fb-4155-9fd7-de5efea02c5d",
   "metadata": {},
   "outputs": [
    {
     "name": "stdout",
     "output_type": "stream",
     "text": [
      "['apple', 'orange', 'umbrella', 'elephant']\n"
     ]
    }
   ],
   "source": [
    "words = [\"apple\", \"banana\", \"orange\", \"grape\", \"umbrella\", \"kiwi\", \"elephant\"]\n",
    "vowel_words = list(filter(lambda word: word[0].lower() in 'aeiou', words))\n",
    "print(vowel_words)"
   ]
  },
  {
   "cell_type": "markdown",
   "id": "64e20aa8-df7d-4643-a158-86e28a9d6d45",
   "metadata": {},
   "source": [
    "##### 13.Generate a list of tuples (x, x^2) for numbers from 1 to 10."
   ]
  },
  {
   "cell_type": "code",
   "execution_count": 88,
   "id": "127c72b9-ed42-48f0-a98c-bcdc73d2a7dc",
   "metadata": {},
   "outputs": [
    {
     "name": "stdout",
     "output_type": "stream",
     "text": [
      "[(1, 1), (2, 4), (3, 9), (4, 16), (5, 25), (6, 36), (7, 49), (8, 64), (9, 81), (10, 100)]\n"
     ]
    }
   ],
   "source": [
    "lis = [(x, x**2) for x in range(1, 11)]\n",
    "print(lis)"
   ]
  },
  {
   "cell_type": "markdown",
   "id": "75f1315c-a286-4ca6-ad3c-7d99428fb271",
   "metadata": {},
   "source": [
    "##### 14.Flatten a 2D list using list comprehension."
   ]
  },
  {
   "cell_type": "code",
   "execution_count": 34,
   "id": "ac968c01-7da3-4b8c-99b0-80a668dfeb99",
   "metadata": {},
   "outputs": [
    {
     "name": "stdout",
     "output_type": "stream",
     "text": [
      "2D Matrix: [[0, 1, 2, 3], [0, 1, 2, 3], [0, 1, 2, 3], [0, 1, 2, 3]]\n",
      "Flattened List: [0, 1, 2, 3, 0, 1, 2, 3, 0, 1, 2, 3, 0, 1, 2, 3]\n"
     ]
    }
   ],
   "source": [
    "matrix = [[j for j in range(4)] for i in range(4)]\n",
    "flattened = [item for row in matrix for item in row]\n",
    "print(\"2D Matrix:\", matrix)\n",
    "print(\"Flattened List:\", flattened)"
   ]
  },
  {
   "cell_type": "markdown",
   "id": "2291e0f9-8060-438d-b797-ec2394adedb9",
   "metadata": {},
   "source": [
    "##### 15.Create a list of prime numbers between 1 and 50 using list comprehension."
   ]
  },
  {
   "cell_type": "code",
   "execution_count": 89,
   "id": "35c44a2d-a8f2-4a1e-a159-ed24614da975",
   "metadata": {},
   "outputs": [
    {
     "name": "stdout",
     "output_type": "stream",
     "text": [
      "[2, 3, 5, 7, 11, 13, 17, 19, 23, 29, 31, 37, 41, 43, 47]\n"
     ]
    }
   ],
   "source": [
    "lis = [x for x in range(2, 51) if all(x % i != 0 for i in range(2, int(x**0.5) + 1))]\n",
    "print(lis)"
   ]
  },
  {
   "cell_type": "markdown",
   "id": "ac672381-2d27-41e8-b00a-e1b423333a89",
   "metadata": {},
   "source": [
    "#### 4.Class (5 Questions)"
   ]
  },
  {
   "cell_type": "markdown",
   "id": "593b9d3a-26b9-4bd0-a228-6c7780b920bb",
   "metadata": {},
   "source": [
    "##### 16.Create a class Student with attributes name and marks, and a method to display details. "
   ]
  },
  {
   "cell_type": "code",
   "execution_count": 95,
   "id": "0f15f4fd-37a3-476f-8c2c-4bebac4cab7e",
   "metadata": {},
   "outputs": [],
   "source": [
    "class Student:\n",
    "    def __init__(self, name, marks):\n",
    "        self.name = name\n",
    "        self.marks = marks\n",
    "\n",
    "    def display_details(self):\n",
    "        print(f\"Student Name: {self.name}\")\n",
    "        print(f\"Marks: {self.marks}\")"
   ]
  },
  {
   "cell_type": "code",
   "execution_count": 97,
   "id": "fea6f055-4115-4439-8992-92bb1834e6b8",
   "metadata": {},
   "outputs": [],
   "source": [
    "s1 = Student(\"sunita\",88)"
   ]
  },
  {
   "cell_type": "code",
   "execution_count": 98,
   "id": "56c3d84e-1a7e-404c-8969-8f264bb3b3e4",
   "metadata": {},
   "outputs": [
    {
     "name": "stdout",
     "output_type": "stream",
     "text": [
      "Student Name: sunita\n",
      "Marks: 88\n"
     ]
    }
   ],
   "source": [
    "s1.display_details()"
   ]
  },
  {
   "cell_type": "markdown",
   "id": "8cd312ec-12d2-4345-a5cc-a7c64e93387d",
   "metadata": {},
   "source": [
    "##### 17.Create a class BankAccount with deposit and withdraw methods. "
   ]
  },
  {
   "cell_type": "code",
   "execution_count": 99,
   "id": "cf816a91-4cbb-4a08-86bf-376939236dcf",
   "metadata": {},
   "outputs": [],
   "source": [
    "class BankAccount :\n",
    "    \n",
    "    def __init__(self, account_holder, initial_balance=0):\n",
    "        self.account_holder = account_holder\n",
    "        self.balance = initial_balance\n",
    "\n",
    "    def deposit(self, amount):\n",
    "        if amount > 0:\n",
    "            self.balance += amount\n",
    "            print(f\"Deposited {amount}. New balance: {self.balance}\")\n",
    "        else:\n",
    "            print(\"Invalid deposit amount\")\n",
    "\n",
    "    def withdraw(self, amount):\n",
    "        if 0 < amount <= self.balance:\n",
    "            self.balance -= amount\n",
    "            print(f\"Withdrew {amount}. New balance: {self.balance}\")\n",
    "        else:\n",
    "            print(\"Invalid withdrawal amount or insufficient funds\")"
   ]
  },
  {
   "cell_type": "code",
   "execution_count": 101,
   "id": "42eb54ba-093e-4880-99fe-3717c2007b28",
   "metadata": {},
   "outputs": [
    {
     "name": "stdout",
     "output_type": "stream",
     "text": [
      "Deposited 5000. New balance: 15000\n",
      "Withdrew 300. New balance: 14700\n",
      "Withdrew 2000. New balance: 12700\n"
     ]
    }
   ],
   "source": [
    "account = BankAccount(\"sunita\",10000)\n",
    "account.deposit(5000)     \n",
    "account.withdraw(300)  \n",
    "account.withdraw(2000)"
   ]
  },
  {
   "cell_type": "markdown",
   "id": "d4fb05c0-2591-40dc-a520-b1d2fe2b48ed",
   "metadata": {},
   "source": [
    "##### 18.Create a class Circle with a method to calculate area and circumference."
   ]
  },
  {
   "cell_type": "code",
   "execution_count": 102,
   "id": "1975cb2d-e64c-4150-bd50-b933bae32e99",
   "metadata": {},
   "outputs": [],
   "source": [
    "class Circle:\n",
    "    def __init__(self, radius):\n",
    "        self.radius = radius\n",
    "\n",
    "    def area(self):\n",
    "        return math.pi * self.radius ** 2\n",
    "\n",
    "    def circumference(self):\n",
    "        return 2 * math.pi * self.radius"
   ]
  },
  {
   "cell_type": "code",
   "execution_count": 103,
   "id": "34b4adcd-292b-4999-91df-2ef2c243277b",
   "metadata": {},
   "outputs": [
    {
     "name": "stdout",
     "output_type": "stream",
     "text": [
      "Area: 78.53981633974483\n",
      "Circumference: 31.41592653589793\n"
     ]
    }
   ],
   "source": [
    "c = Circle(5)\n",
    "\n",
    "print(\"Area:\", c.area())                     \n",
    "print(\"Circumference:\", c.circumference())   "
   ]
  },
  {
   "cell_type": "markdown",
   "id": "026a59f5-c929-4344-bbb0-a78bad78a589",
   "metadata": {},
   "source": [
    "##### 19.Create a class Employee that increases salary by 10%."
   ]
  },
  {
   "cell_type": "code",
   "execution_count": 40,
   "id": "ed0821d7-1395-4353-afad-090cc6239dc0",
   "metadata": {},
   "outputs": [
    {
     "name": "stdout",
     "output_type": "stream",
     "text": [
      "Employee: Alice, Salary: 5000.00\n",
      "Employee: Alice, Salary: 5500.00\n"
     ]
    }
   ],
   "source": [
    "class Employee:\n",
    "    def __init__(self, name, salary):\n",
    "        self.name = name\n",
    "        self.salary = salary\n",
    "\n",
    "    def increase_salary(self):\n",
    "        self.salary = self.salary * 1.10  \n",
    "\n",
    "    def __str__(self):\n",
    "        return f\"Employee: {self.name}, Salary: {self.salary:.2f}\"\n",
    "\n",
    "emp = Employee(\"Alice\", 5000)\n",
    "print(emp) \n",
    "emp.increase_salary()\n",
    "print(emp)  "
   ]
  },
  {
   "cell_type": "markdown",
   "id": "60b42897-1618-4e92-9ecb-237734c0a139",
   "metadata": {},
   "source": [
    "##### 20.Create a class Car with methods to start, stop, and display status."
   ]
  },
  {
   "cell_type": "code",
   "execution_count": 108,
   "id": "93ec5807-f8b1-4b6a-ad59-7080e38241c9",
   "metadata": {},
   "outputs": [],
   "source": [
    "class Car :\n",
    "\n",
    "    def __init__(self, brand):\n",
    "        self.brand = brand\n",
    "        self.status = \"Stopped\"\n",
    "\n",
    "    def start(self):\n",
    "        if self.status != \"Started\":\n",
    "            self.status = \"Started\"\n",
    "            print(f\"{self.brand} car started.\")\n",
    "        else:\n",
    "            print(f\"{self.brand} car is already running.\")\n",
    "\n",
    "    def stop(self):\n",
    "        if self.status != \"Stopped\":\n",
    "            self.status = \"Stopped\"\n",
    "            print(f\"{self.brand} car stopped.\")\n",
    "        else:\n",
    "            print(f\"{self.brand} car is already stopped.\")\n",
    "    def display_status(self):\n",
    "        print(f\"{self.brand} car is currently: {self.status}\")"
   ]
  },
  {
   "cell_type": "code",
   "execution_count": 109,
   "id": "5d6ad93f-d571-4459-a59d-ff9b71b0e4b0",
   "metadata": {},
   "outputs": [
    {
     "name": "stdout",
     "output_type": "stream",
     "text": [
      "Toyota car is currently: Stopped\n",
      "Toyota car started.\n",
      "Toyota car is already running.\n",
      "Toyota car is currently: Started\n",
      "Toyota car stopped.\n",
      "Toyota car is currently: Stopped\n"
     ]
    }
   ],
   "source": [
    "my_car = Car(\"Toyota\")\n",
    "\n",
    "my_car.display_status()  \n",
    "my_car.start()            \n",
    "my_car.start()            \n",
    "my_car.display_status()   \n",
    "my_car.stop()             \n",
    "my_car.display_status()   "
   ]
  },
  {
   "cell_type": "markdown",
   "id": "b02bc9ae-1873-4b7b-8beb-2037ef9603b8",
   "metadata": {},
   "source": [
    "#### 5.Inheritance (5 Questions)"
   ]
  },
  {
   "cell_type": "markdown",
   "id": "acb8b767-3838-4a0c-ade7-1027e3aae2a4",
   "metadata": {},
   "source": [
    "##### 21.Create a base class Animal and a derived class Dog that overrides a method."
   ]
  },
  {
   "cell_type": "code",
   "execution_count": 1,
   "id": "5ced3bce-2faf-451a-b48e-230eae35a113",
   "metadata": {},
   "outputs": [
    {
     "name": "stdout",
     "output_type": "stream",
     "text": [
      "Some sound\n",
      "Bark\n"
     ]
    }
   ],
   "source": [
    "class Animal:\n",
    "    def sound(self):\n",
    "        print(\"Some sound\")\n",
    "\n",
    "class Dog(Animal):\n",
    "    def sound(self):\n",
    "        print(\"Bark\")\n",
    "\n",
    "# Test\n",
    "a = Animal()\n",
    "a.sound()  # Some sound\n",
    "\n",
    "d = Dog()\n",
    "d.sound()  # Bark"
   ]
  },
  {
   "cell_type": "markdown",
   "id": "db8bc5fd-ea74-4246-aa70-343a57399d2e",
   "metadata": {},
   "source": [
    "##### 22.Create a base class Shape with method area(). Inherit Rectangle and Circle classes to implement area calculation."
   ]
  },
  {
   "cell_type": "code",
   "execution_count": 2,
   "id": "41bfe419-b843-4ffb-ad79-b30018bacdd5",
   "metadata": {},
   "outputs": [
    {
     "name": "stdout",
     "output_type": "stream",
     "text": [
      "15\n",
      "50.24\n"
     ]
    }
   ],
   "source": [
    "class shape:\n",
    "    def area(self):\n",
    "        pass\n",
    "class Rectangle(shape):\n",
    "    def __init__(self, w, h):\n",
    "        self.w = w\n",
    "        self.h = h\n",
    "    def area(self):\n",
    "        return self.w * self.h\n",
    "class circle(shape):\n",
    "    def __init__(self, r):\n",
    "        self.r = r\n",
    "    def area(self):\n",
    "        return 3.14 * self.r * self.r\n",
    "# Test\n",
    "print(Rectangle(5,3).area())       # 15\n",
    "print(circle(4).area())            # 50.24"
   ]
  },
  {
   "cell_type": "markdown",
   "id": "952b5471-bcf5-4360-8400-7513f293daca",
   "metadata": {},
   "source": [
    "##### 23.Create a Person class and inherit Student and Teacher from it with additional attributes."
   ]
  },
  {
   "cell_type": "code",
   "execution_count": 3,
   "id": "112110d4-373c-429f-8f84-6adce2a065d9",
   "metadata": {},
   "outputs": [
    {
     "name": "stdout",
     "output_type": "stream",
     "text": [
      "Student: Tanuja 20 S101\n",
      "Teacher: Umesh 40 Math\n"
     ]
    }
   ],
   "source": [
    "# Parent class\n",
    "class Person:\n",
    "    def __init__(self, name, age):\n",
    "        self.name = name\n",
    "        self.age = age\n",
    "\n",
    "# Child class\n",
    "class Student(Person):\n",
    "    def __init__(self, name, age, roll):\n",
    "        Person.__init__(self, name, age)   # call parent\n",
    "        self.roll = roll\n",
    "\n",
    "class Teacher(Person):\n",
    "    def __init__(self, name, age, subject):\n",
    "        Person.__init__(self, name, age)\n",
    "        self.subject = subject\n",
    "\n",
    "# Create objects\n",
    "s = Student(\"Tanuja\", 20, \"S101\")\n",
    "t = Teacher(\"Umesh\", 40, \"Math\")\n",
    "\n",
    "# Print details\n",
    "print(\"Student:\", s.name, s.age, s.roll)\n",
    "print(\"Teacher:\", t.name, t.age, t.subject)"
   ]
  },
  {
   "cell_type": "markdown",
   "id": "f344ab2c-7690-459e-81b9-44c2e87850b8",
   "metadata": {},
   "source": [
    "##### 24.Create a Vehicle class and inherit Car and Bike with their specific features."
   ]
  },
  {
   "cell_type": "code",
   "execution_count": 2,
   "id": "533ed16f-32be-42c2-879c-818dfa2ad436",
   "metadata": {},
   "outputs": [],
   "source": [
    "class Vehicle:\n",
    "    def start(self):\n",
    "        print(\"Vehicle started\")\n",
    "\n",
    "# Child class 1\n",
    "class Car(Vehicle):\n",
    "    def drive(self):\n",
    "        print(\"Driving a car\")\n",
    "\n",
    "# Child class 2\n",
    "class Bike(Vehicle):\n",
    "    def ride(self):\n",
    "        print(\"Riding a bike\")"
   ]
  },
  {
   "cell_type": "code",
   "execution_count": 3,
   "id": "a025c609-9a49-45f5-b337-dbf51454c2d4",
   "metadata": {},
   "outputs": [
    {
     "name": "stdout",
     "output_type": "stream",
     "text": [
      "Vehicle started\n",
      "Driving a car\n",
      "Vehicle started\n",
      "Riding a bike\n"
     ]
    }
   ],
   "source": [
    "# Creating objects of child classes\n",
    "c = Car()\n",
    "b = Bike()\n",
    "\n",
    "\n",
    "c.start()  # Inherited from Vehicle\n",
    "c.drive()  # Car-specific method\n",
    "\n",
    "b.start()  # Inherited from Vehicle\n",
    "b.ride()   # Bike-specific method"
   ]
  },
  {
   "cell_type": "markdown",
   "id": "01353d6a-18ca-4937-ab1a-ea029a5325cd",
   "metadata": {},
   "source": [
    "##### 25.Demonstrate multiple inheritance with a StudentAthlete class (inheriting from Student and Athlete)."
   ]
  },
  {
   "cell_type": "code",
   "execution_count": 4,
   "id": "4d6dec2f-137a-40fb-964c-45e54a10363c",
   "metadata": {},
   "outputs": [
    {
     "name": "stdout",
     "output_type": "stream",
     "text": [
      "Studying\n",
      "Playing sports\n"
     ]
    }
   ],
   "source": [
    "class Student:\n",
    "    def study(self):\n",
    "        print(\"Studying\")\n",
    "\n",
    "class Athlete:\n",
    "    def play(self):\n",
    "        print(\"Playing sports\")\n",
    "\n",
    "class StudentAthlete(Student, Athlete):\n",
    "    pass\n",
    "\n",
    "# Test\n",
    "sa = StudentAthlete()\n",
    "sa.study()  # Studying\n",
    "sa.play()   # Playing sports"
   ]
  },
  {
   "cell_type": "markdown",
   "id": "75d35501-3fa1-45c7-b72f-389c18f062ab",
   "metadata": {},
   "source": [
    "#### 6.Polymorphism (5 Questions)"
   ]
  },
  {
   "cell_type": "markdown",
   "id": "73710756-18b0-477e-8ef5-dc8f1ae09577",
   "metadata": {},
   "source": [
    "##### 26. Create two classes Cat and Dog with the same method speak(). Demonstrate polymorphism."
   ]
  },
  {
   "cell_type": "code",
   "execution_count": 4,
   "id": "20f45bb4-5e23-4a95-8649-b27ecb0d9787",
   "metadata": {},
   "outputs": [],
   "source": [
    "class Animal:\n",
    "    def make_sound(self):\n",
    "        pass  # This is a placeholder; subclasses will override it\n",
    "\n",
    "class Dog(Animal):\n",
    "    def make_sound(self):\n",
    "        return \"Woof!\"\n",
    "\n",
    "class Cat(Animal):\n",
    "    def make_sound(self):\n",
    "        return \"Meow!\"\n",
    "\n",
    "class Bird(Animal):\n",
    "    def make_sound(self):\n",
    "        return \"Chirp!\""
   ]
  },
  {
   "cell_type": "code",
   "execution_count": 5,
   "id": "cb16f405-1414-4866-aba4-35df7b19c522",
   "metadata": {},
   "outputs": [],
   "source": [
    "o1= Dog()\n",
    "o2 = Cat()\n",
    "o3 = Bird()"
   ]
  },
  {
   "cell_type": "code",
   "execution_count": 6,
   "id": "85feefcd-fc5b-46d9-a8bd-31f66fa663ad",
   "metadata": {},
   "outputs": [
    {
     "data": {
      "text/plain": [
       "[<__main__.Dog at 0x1f4a4423b60>,\n",
       " <__main__.Cat at 0x1f4a45d4050>,\n",
       " <__main__.Bird at 0x1f4a45d41a0>]"
      ]
     },
     "execution_count": 6,
     "metadata": {},
     "output_type": "execute_result"
    }
   ],
   "source": [
    "animals = [o1,o2,o3]\n",
    "animals"
   ]
  },
  {
   "cell_type": "code",
   "execution_count": 7,
   "id": "38cd1bc7-3064-46c1-92a5-35f6533bbc4b",
   "metadata": {},
   "outputs": [
    {
     "name": "stdout",
     "output_type": "stream",
     "text": [
      "Woof!\n",
      "Meow!\n",
      "Chirp!\n"
     ]
    }
   ],
   "source": [
    "for animal in animals:\n",
    "    print(animal.make_sound())"
   ]
  },
  {
   "cell_type": "markdown",
   "id": "4d648988-2860-4520-ac71-5531b70b58da",
   "metadata": {},
   "source": [
    "##### 27. Demonstrate operator overloading by implementing addition of two Vector objects. "
   ]
  },
  {
   "cell_type": "code",
   "execution_count": 5,
   "id": "485479b1-e361-4f9e-ad0e-5efeb4aee678",
   "metadata": {},
   "outputs": [
    {
     "name": "stdout",
     "output_type": "stream",
     "text": [
      "7 10\n"
     ]
    }
   ],
   "source": [
    "class Vector:\n",
    "    def __init__(self, x, y):\n",
    "        self.x = x\n",
    "        self.y = y\n",
    "\n",
    "    def __add__(self, other):\n",
    "        return Vector(self.x + other.x, self.y + other.y)\n",
    "\n",
    "    def show(self):\n",
    "        print(self.x, self.y)\n",
    "\n",
    "# Test\n",
    "v1 = Vector(2, 3)\n",
    "v2 = Vector(5, 7)\n",
    "(v1 + v2).show()  # 7 10"
   ]
  },
  {
   "cell_type": "markdown",
   "id": "3eb1114c-ddbe-47a0-92b9-332cf84ceb2b",
   "metadata": {},
   "source": [
    "##### 28.Demonstrate method overloading using default parameters. "
   ]
  },
  {
   "cell_type": "code",
   "execution_count": 6,
   "id": "b14c9f94-1a20-48af-bbb2-ad4b5d7295d8",
   "metadata": {},
   "outputs": [
    {
     "name": "stdout",
     "output_type": "stream",
     "text": [
      "8\n",
      "5\n"
     ]
    }
   ],
   "source": [
    "class Math:\n",
    "    def add(self, a, b=0):\n",
    "        return a + b\n",
    "\n",
    "m = Math()\n",
    "print(m.add(5,3))  # 8\n",
    "print(m.add(5))    # 5"
   ]
  },
  {
   "cell_type": "markdown",
   "id": "66c5a8d6-5480-4a4e-a46d-e59851e64fb6",
   "metadata": {},
   "source": [
    "##### 29. Create a base class Shape with draw() method and override it in derived classes. "
   ]
  },
  {
   "cell_type": "code",
   "execution_count": 7,
   "id": "b65f5230-48d4-499b-9b6f-bff5b134f955",
   "metadata": {},
   "outputs": [
    {
     "name": "stdout",
     "output_type": "stream",
     "text": [
      "Drawing rectangle\n",
      "Drawing circle\n"
     ]
    }
   ],
   "source": [
    "class Shape:\n",
    "    def draw(self):\n",
    "        print(\"Drawing shape\")\n",
    "\n",
    "class Rectangle(Shape):\n",
    "    def draw(self):\n",
    "        print(\"Drawing rectangle\")\n",
    "\n",
    "class Circle(Shape):\n",
    "    def draw(self):\n",
    "        print(\"Drawing circle\")\n",
    "\n",
    "Rectangle().draw()  # Drawing rectangle\n",
    "Circle().draw()     # Drawing circle"
   ]
  },
  {
   "cell_type": "markdown",
   "id": "c710ee6f-33f8-4d1e-b7d6-2bfaebd77159",
   "metadata": {},
   "source": [
    "##### 30. Demonstrate duck typing with classes having the same method name."
   ]
  },
  {
   "cell_type": "code",
   "execution_count": 8,
   "id": "93d6970f-e933-4feb-b799-c1590c3fa492",
   "metadata": {},
   "outputs": [],
   "source": [
    "class ineuron4:\n",
    "    def students(self):\n",
    "        print(\"print a students details \")\n",
    "\n",
    "class class_type :\n",
    "    def student(self):\n",
    "        print(\"print the class type of students\")\n"
   ]
  },
  {
   "cell_type": "code",
   "execution_count": 9,
   "id": "21c80601-88e1-4bec-a665-04658b77d25b",
   "metadata": {},
   "outputs": [],
   "source": [
    "def ineuron_external(a,b):\n",
    "    a.students()\n",
    "    b.student()"
   ]
  },
  {
   "cell_type": "code",
   "execution_count": 10,
   "id": "c6bf4476-9bef-466e-b7b7-a613b09d76be",
   "metadata": {},
   "outputs": [
    {
     "name": "stdout",
     "output_type": "stream",
     "text": [
      "print a students details \n",
      "print the class type of students\n"
     ]
    }
   ],
   "source": [
    "ineuron_external(ineuron4(),class_type())"
   ]
  },
  {
   "cell_type": "markdown",
   "id": "6d5a2d7d-8931-4157-b5eb-0d9ba1242f60",
   "metadata": {},
   "source": [
    "#### 7.Encapsulation (5 Questions) "
   ]
  },
  {
   "cell_type": "markdown",
   "id": "bd52e155-44b3-48e4-9466-8095cbad6c73",
   "metadata": {},
   "source": [
    "##### 31. Create a class Account with private balance attribute and provide methods to deposit and withdraw."
   ]
  },
  {
   "cell_type": "code",
   "execution_count": 86,
   "id": "d07ff441-a972-4b40-ac74-d88c34bb9b74",
   "metadata": {},
   "outputs": [],
   "source": [
    "class BankAccount:\n",
    "    def __init__(self, account_holder, balance):\n",
    "        self.account_holder = account_holder\n",
    "        self.__balance = balance  # Private attribute\n",
    "\n",
    "    def deposit(self, amount):\n",
    "        if amount > 0:\n",
    "            self.__balance += amount\n",
    "            return f\"Deposited {amount}. New balance: {self.__balance}\"\n",
    "        return \"Invalid deposit amount\"\n",
    "\n",
    "    def withdraw(self, amount):\n",
    "        if 0 < amount <= self.__balance:\n",
    "            self.__balance -= amount\n",
    "            return f\"Withdrew {amount}. New balance: {self.__balance}\"\n",
    "        return \"Invalid withdrawal amount\"\n",
    "\n",
    "    def get_balance(self):\n",
    "        return self.__balance"
   ]
  },
  {
   "cell_type": "code",
   "execution_count": 87,
   "id": "63ef3b77-5748-4701-af3a-68cd5716bf39",
   "metadata": {},
   "outputs": [
    {
     "name": "stdout",
     "output_type": "stream",
     "text": [
      "Deposited 500. New balance: 1500\n",
      "Withdrew 200. New balance: 1300\n",
      "1300\n"
     ]
    }
   ],
   "source": [
    "account = BankAccount(\"sunita\", 1000)\n",
    "print(account.deposit(500)) \n",
    "print(account.withdraw(200))  \n",
    "print(account.get_balance())"
   ]
  },
  {
   "cell_type": "markdown",
   "id": "421ee97f-4d90-4a93-b82f-c51190e5cc2c",
   "metadata": {},
   "source": [
    "##### 32. Create a class with private attributes and use getter and setter methods to access them. "
   ]
  },
  {
   "cell_type": "code",
   "execution_count": 8,
   "id": "1b4b0495-097f-4a11-8517-38c42abd99cb",
   "metadata": {},
   "outputs": [],
   "source": [
    "class Person:\n",
    "    def __init__(self, name):\n",
    "        self.__name = name  # private\n",
    "\n",
    "    def get_name(self):\n",
    "        return self.__name\n",
    "\n",
    "    def set_name(self, name):\n",
    "        self.__name = name"
   ]
  },
  {
   "cell_type": "code",
   "execution_count": 10,
   "id": "0d470b67-b8a8-4784-afd7-bcac14596446",
   "metadata": {},
   "outputs": [
    {
     "name": "stdout",
     "output_type": "stream",
     "text": [
      "isha\n",
      "chiu\n"
     ]
    }
   ],
   "source": [
    "a = Person(\"isha\")\n",
    "print(a.get_name())\n",
    "a.set_name(\"chiu\")\n",
    "print(a.get_name())"
   ]
  },
  {
   "cell_type": "markdown",
   "id": "cf012c16-7e23-4351-a5f4-2fe0c531b52a",
   "metadata": {},
   "source": [
    "##### 33. Demonstrate name mangling with private variables. \n"
   ]
  },
  {
   "cell_type": "code",
   "execution_count": 11,
   "id": "a514659e-b5ac-4a39-92ba-bf9a56e81909",
   "metadata": {},
   "outputs": [],
   "source": [
    "class Test:\n",
    "    def __init__(self):\n",
    "        self.__secret = 123"
   ]
  },
  {
   "cell_type": "code",
   "execution_count": 12,
   "id": "907c6b43-75e7-4be5-931b-78c36dea4983",
   "metadata": {},
   "outputs": [
    {
     "data": {
      "text/plain": [
       "123"
      ]
     },
     "execution_count": 12,
     "metadata": {},
     "output_type": "execute_result"
    }
   ],
   "source": [
    "t = Test()\n",
    "t._Test__secret\n"
   ]
  },
  {
   "cell_type": "markdown",
   "id": "fdd281c9-78f6-4383-8389-9975ef1fbf25",
   "metadata": {},
   "source": [
    "##### 34. Create a class Bank with encapsulated methods to show account details securely. "
   ]
  },
  {
   "cell_type": "code",
   "execution_count": 20,
   "id": "109f3932-ff47-49a0-bfd1-051603003922",
   "metadata": {},
   "outputs": [
    {
     "name": "stdout",
     "output_type": "stream",
     "text": [
      "Balance: 5000\n",
      "Balance: 6000\n"
     ]
    }
   ],
   "source": [
    "class Bank:\n",
    "    def __init__(self, balance):\n",
    "        self.__balance = balance\n",
    "\n",
    "    def show_balance(self):\n",
    "        print(\"Balance:\", self.__balance)\n",
    "\n",
    "    def deposit(self, amount):\n",
    "        self.__balance += amount\n",
    "\n",
    "# Test\n",
    "b = Bank(5000)\n",
    "b.show_balance()\n",
    "b.deposit(1000)\n",
    "b.show_balance()"
   ]
  },
  {
   "cell_type": "markdown",
   "id": "90bbae3b-f547-4e46-9420-78813ee320af",
   "metadata": {},
   "source": [
    "##### 35. Demonstrate encapsulation by restricting access to class attributes. "
   ]
  },
  {
   "cell_type": "code",
   "execution_count": 21,
   "id": "612b8a36-8fdc-44a6-bfd4-46d96e3344a9",
   "metadata": {},
   "outputs": [
    {
     "name": "stdout",
     "output_type": "stream",
     "text": [
      "500\n",
      "600\n"
     ]
    }
   ],
   "source": [
    "class Product:\n",
    "    def __init__(self, price):\n",
    "        self.__price = price  # private\n",
    "\n",
    "    def get_price(self):\n",
    "        return self.__price\n",
    "\n",
    "    def set_price(self, price):\n",
    "        if price > 0:\n",
    "            self.__price = price\n",
    "\n",
    "# Test\n",
    "item = Product(500)\n",
    "print(item.get_price())\n",
    "item.set_price(600)\n",
    "print(item.get_price())"
   ]
  },
  {
   "cell_type": "markdown",
   "id": "0b75877c-7756-4f96-801c-f7ee9a84e9be",
   "metadata": {},
   "source": [
    "#### 8. Datetime Module (5 Questions) "
   ]
  },
  {
   "cell_type": "markdown",
   "id": "7ecea7c2-5b08-4db9-b774-0950ae1c71ca",
   "metadata": {},
   "source": [
    "##### 36. Write a program to display the current date and time. "
   ]
  },
  {
   "cell_type": "code",
   "execution_count": 21,
   "id": "3a0c7a5a-adb4-4b00-88aa-e21f0dbefb42",
   "metadata": {},
   "outputs": [],
   "source": [
    "import datetime"
   ]
  },
  {
   "cell_type": "code",
   "execution_count": 22,
   "id": "010a874f-9891-40b2-9d33-a74823142177",
   "metadata": {},
   "outputs": [],
   "source": [
    "from datetime import date"
   ]
  },
  {
   "cell_type": "code",
   "execution_count": 30,
   "id": "be5d3446-c6f6-4077-9455-70e27b6a87a9",
   "metadata": {},
   "outputs": [
    {
     "name": "stdout",
     "output_type": "stream",
     "text": [
      "Current date and time: 2025-09-16 17:10:25.610518\n",
      "Formatted datetime: 2025-09-16 17:10:25\n"
     ]
    }
   ],
   "source": [
    "from datetime import datetime\n",
    "\n",
    "now = datetime.now()\n",
    "print(\"Current date and time:\", now)\n",
    "print(\"Formatted datetime:\", now.strftime(\"%Y-%m-%d %H:%M:%S\"))"
   ]
  },
  {
   "cell_type": "markdown",
   "id": "0a2ed930-75c5-43be-ad8d-8defc42cfa0e",
   "metadata": {},
   "source": [
    "##### 37. Wite a program to calculate a person’s age from their date of birth. "
   ]
  },
  {
   "cell_type": "code",
   "execution_count": 41,
   "id": "e8be2dd9-829e-421f-bb72-8f03d907a0b1",
   "metadata": {},
   "outputs": [
    {
     "name": "stdin",
     "output_type": "stream",
     "text": [
      "Enter your date of birth (YYYY-MM-DD):  2002-09-26\n"
     ]
    },
    {
     "name": "stdout",
     "output_type": "stream",
     "text": [
      "Your age is: 22\n"
     ]
    }
   ],
   "source": [
    "from datetime import datetime\n",
    "\n",
    "dob_input = input(\"Enter your date of birth (YYYY-MM-DD): \")\n",
    "dob = datetime.strptime(dob_input, \"%Y-%m-%d\")\n",
    "today = datetime.today()\n",
    "\n",
    "age = today.year - dob.year\n",
    "if (today.month, today.day) < (dob.month, dob.day):\n",
    "    age -= 1\n",
    "\n",
    "print(\"Your age is:\", age)"
   ]
  },
  {
   "cell_type": "markdown",
   "id": "7cc00036-4c57-43c9-a149-6defaa160f0b",
   "metadata": {},
   "source": [
    "##### 38. Write a program to find the difference in days between two given dates."
   ]
  },
  {
   "cell_type": "code",
   "execution_count": 31,
   "id": "193e547b-46dd-4c6b-9015-11b8513e7c15",
   "metadata": {},
   "outputs": [
    {
     "name": "stdout",
     "output_type": "stream",
     "text": [
      "Difference: 2 days, 0:00:00\n"
     ]
    }
   ],
   "source": [
    "from datetime import datetime, timedelta\n",
    "\n",
    "now = datetime.now()\n",
    "tomorrow = now + timedelta(days=2)\n",
    "difference = tomorrow - now\n",
    "print(\"Difference:\", difference)"
   ]
  },
  {
   "cell_type": "code",
   "execution_count": 32,
   "id": "85ababb8-1e21-49e0-86d1-cbd0d4022f2f",
   "metadata": {},
   "outputs": [
    {
     "data": {
      "text/plain": [
       "datetime.datetime(2025, 9, 16, 17, 12, 38, 664907)"
      ]
     },
     "execution_count": 32,
     "metadata": {},
     "output_type": "execute_result"
    }
   ],
   "source": [
    "now"
   ]
  },
  {
   "cell_type": "code",
   "execution_count": 33,
   "id": "4ea98268-24f9-43d5-9684-386bab8fdf45",
   "metadata": {},
   "outputs": [
    {
     "data": {
      "text/plain": [
       "datetime.datetime(2025, 9, 18, 17, 12, 38, 664907)"
      ]
     },
     "execution_count": 33,
     "metadata": {},
     "output_type": "execute_result"
    }
   ],
   "source": [
    "tomorrow"
   ]
  },
  {
   "cell_type": "markdown",
   "id": "3de41f72-715c-4dc9-a161-230da052705f",
   "metadata": {},
   "source": [
    "##### 39. Write a program to print the date 30 days from today. "
   ]
  },
  {
   "cell_type": "code",
   "execution_count": 84,
   "id": "9518d657-144c-4491-9be5-ac6eab9d893e",
   "metadata": {},
   "outputs": [
    {
     "name": "stdout",
     "output_type": "stream",
     "text": [
      "Today's date: 2025-09-16\n",
      "Date after 30 days: 2025-10-16\n"
     ]
    }
   ],
   "source": [
    "from datetime import datetime, timedelta\n",
    "today = datetime.today()\n",
    "future_date = today + timedelta(days=30)\n",
    "print(\"Today's date:\", today.date())\n",
    "print(\"Date after 30 days:\", future_date.date())"
   ]
  },
  {
   "cell_type": "markdown",
   "id": "ca689931-c200-437b-946b-b370a1046d48",
   "metadata": {},
   "source": [
    "##### 40.Write a program to format today’s date as “DD/MM/YYYY” and “YYYY-MM-DD”. \n"
   ]
  },
  {
   "cell_type": "code",
   "execution_count": 85,
   "id": "e60c50c8-d4d4-46f9-8671-06a80c6aade0",
   "metadata": {},
   "outputs": [
    {
     "name": "stdout",
     "output_type": "stream",
     "text": [
      "Today's date: 2025-09-16\n",
      "Formatted date: 2025-09-16\n"
     ]
    }
   ],
   "source": [
    "from datetime import date\n",
    "\n",
    "today = date.today()\n",
    "print(\"Today's date:\", today)\n",
    "print(\"Formatted date:\", today.strftime(\"%Y-%m-%d\"))"
   ]
  },
  {
   "cell_type": "markdown",
   "id": "c3870031-51f5-496d-af6d-96989546155b",
   "metadata": {},
   "source": [
    "#### 9. Math Module (5 Questions) "
   ]
  },
  {
   "cell_type": "markdown",
   "id": "b6a55ff4-d3d4-4eb5-8cfa-9c3bdefe3e3a",
   "metadata": {},
   "source": [
    "##### 41. Write a program to calculate factorial using math.factorial(). "
   ]
  },
  {
   "cell_type": "code",
   "execution_count": 23,
   "id": "e1693a48-5022-41fa-ab6d-da4302ad8d8d",
   "metadata": {},
   "outputs": [],
   "source": [
    "import math as mt"
   ]
  },
  {
   "cell_type": "code",
   "execution_count": 24,
   "id": "a8229ae5-d3b8-45b2-95a1-438cb1e1b47d",
   "metadata": {},
   "outputs": [
    {
     "data": {
      "text/plain": [
       "720"
      ]
     },
     "execution_count": 24,
     "metadata": {},
     "output_type": "execute_result"
    }
   ],
   "source": [
    "mt.factorial(6)"
   ]
  },
  {
   "cell_type": "markdown",
   "id": "c6e938d4-b0d5-461f-bb92-83c7255b6199",
   "metadata": {},
   "source": [
    "##### 42. Write a program to find the greatest common divisor (GCD) of two numbers. "
   ]
  },
  {
   "cell_type": "code",
   "execution_count": 25,
   "id": "08f96bd9-819c-4aa1-873b-2ac4ad57449e",
   "metadata": {},
   "outputs": [
    {
     "data": {
      "text/plain": [
       "5"
      ]
     },
     "execution_count": 25,
     "metadata": {},
     "output_type": "execute_result"
    }
   ],
   "source": [
    "mt.gcd(30,65)"
   ]
  },
  {
   "cell_type": "markdown",
   "id": "52cd123a-b00e-45fa-aa23-18380af56551",
   "metadata": {},
   "source": [
    "##### 43. Write a program to calculate square root, power, and logarithm using math module. \n"
   ]
  },
  {
   "cell_type": "code",
   "execution_count": 26,
   "id": "3a504ffe-0693-4a1c-9a44-a30f7cfd49ba",
   "metadata": {},
   "outputs": [
    {
     "data": {
      "text/plain": [
       "5.477225575051661"
      ]
     },
     "execution_count": 26,
     "metadata": {},
     "output_type": "execute_result"
    }
   ],
   "source": [
    "mt.sqrt(30)"
   ]
  },
  {
   "cell_type": "code",
   "execution_count": 27,
   "id": "7d8bd98c-b411-43d8-9b95-8116e94cb037",
   "metadata": {},
   "outputs": [
    {
     "data": {
      "text/plain": [
       "16.0"
      ]
     },
     "execution_count": 27,
     "metadata": {},
     "output_type": "execute_result"
    }
   ],
   "source": [
    "mt.pow(4,2)"
   ]
  },
  {
   "cell_type": "code",
   "execution_count": 28,
   "id": "ac79f62b-324e-4a90-a8d4-7c4afb04c5b8",
   "metadata": {},
   "outputs": [
    {
     "data": {
      "text/plain": [
       "2.302585092994046"
      ]
     },
     "execution_count": 28,
     "metadata": {},
     "output_type": "execute_result"
    }
   ],
   "source": [
    "mt.log(10)"
   ]
  },
  {
   "cell_type": "markdown",
   "id": "cb0b2d73-8cf9-457f-b302-b3a94ec5222b",
   "metadata": {},
   "source": [
    "##### 44. Write a program to generate random numbers between 1 and 100 (using math and random). \n"
   ]
  },
  {
   "cell_type": "code",
   "execution_count": 75,
   "id": "2fac6f75-4841-4b88-a5b7-698c824d217a",
   "metadata": {},
   "outputs": [
    {
     "name": "stdout",
     "output_type": "stream",
     "text": [
      "Random number (1 to 100): 101\n"
     ]
    }
   ],
   "source": [
    "import math\n",
    "import random\n",
    "\n",
    "num = random.randint(1, 100)\n",
    "\n",
    "num = math.floor(1 * 100) + 1\n",
    "\n",
    "print(\"Random number (1 to 100):\", num)"
   ]
  },
  {
   "cell_type": "markdown",
   "id": "9e81a62e-5845-4a1e-bf92-7ea67b9f67ca",
   "metadata": {},
   "source": [
    "##### 45. Write a program to convert radians to degrees and vice versa. "
   ]
  },
  {
   "cell_type": "code",
   "execution_count": 73,
   "id": "9f9a3c0d-bce5-453f-a508-d4354e995f7a",
   "metadata": {},
   "outputs": [
    {
     "name": "stdout",
     "output_type": "stream",
     "text": [
      "Radians: 3.141592653589793\n"
     ]
    }
   ],
   "source": [
    "degrees = 180\n",
    "radians = mt.radians(degrees)\n",
    "print(\"Radians:\", radians)"
   ]
  },
  {
   "cell_type": "markdown",
   "id": "d9414bc8-0dee-4f56-aefb-55c61c3acb33",
   "metadata": {},
   "source": [
    "#### 10. Regular Expression Module (5 Questions) \n"
   ]
  },
  {
   "cell_type": "markdown",
   "id": "30c919bb-34f5-49f6-8869-e933d8f7d934",
   "metadata": {},
   "source": [
    "##### 46. Write a regex to check if a string is a valid email address. \n"
   ]
  },
  {
   "cell_type": "code",
   "execution_count": 40,
   "id": "13be8a25-84f2-4620-ad1f-88544c567275",
   "metadata": {},
   "outputs": [
    {
     "name": "stdout",
     "output_type": "stream",
     "text": [
      "['support@example.com', 'sales@mydomain.org', '34kghig@gmail.co.in']\n"
     ]
    }
   ],
   "source": [
    "text = \"Contact us at support@example.com or sales@mydomain.org, 34kghig@gmail.co.in\"\n",
    "emails = re.findall(r'\\b[\\w.-]+@[\\w.-]+\\.\\w+\\b', text)\n",
    "print(emails)"
   ]
  },
  {
   "cell_type": "markdown",
   "id": "81b81845-9c02-4769-99af-50177046a0aa",
   "metadata": {},
   "source": [
    "##### 47. Write a regex to extract all numbers from a string. \n"
   ]
  },
  {
   "cell_type": "code",
   "execution_count": 58,
   "id": "cdea4a97-22cc-453f-8db7-1feb531953a7",
   "metadata": {},
   "outputs": [],
   "source": [
    "txt = \"I have 2 apples, 15 bananas, and 100 rupees.\""
   ]
  },
  {
   "cell_type": "code",
   "execution_count": 61,
   "id": "bf6db230-3aa9-4a37-ae7a-ad8fadd688ed",
   "metadata": {},
   "outputs": [],
   "source": [
    "numbers = re.findall(r'\\b\\w+@\\w+\\.\\w+', text)"
   ]
  },
  {
   "cell_type": "code",
   "execution_count": 63,
   "id": "33901e13-0e3d-4ea6-9080-bb9817101617",
   "metadata": {},
   "outputs": [
    {
     "name": "stdout",
     "output_type": "stream",
     "text": [
      "[]\n"
     ]
    }
   ],
   "source": [
    "print(numbers)"
   ]
  },
  {
   "cell_type": "markdown",
   "id": "6bda730b-d7b8-476d-9cb7-fbe350b7e007",
   "metadata": {},
   "source": [
    "##### 48. Write a regex to validate if a string is a valid Indian mobile number (10 digits). "
   ]
  },
  {
   "cell_type": "code",
   "execution_count": 43,
   "id": "c6bbdef8-fc9b-47a9-bcca-bbaf57b7fe78",
   "metadata": {},
   "outputs": [
    {
     "name": "stdout",
     "output_type": "stream",
     "text": [
      "['9876543210', '919876543210', '916545438567']\n"
     ]
    }
   ],
   "source": [
    "text = \"Call me at 9876543210 or 919876543210 or +916545438567.\"\n",
    "phones = re.findall(r'\\b(?:\\+91|91)?[6-9]\\d{9}\\b', text)\n",
    "print(phones)"
   ]
  },
  {
   "cell_type": "markdown",
   "id": "c3f7c37b-7bf0-428c-a656-bbbf4e61cb52",
   "metadata": {},
   "source": [
    "##### 49. Write a regex to find all words starting with a capital letter in a sentence. "
   ]
  },
  {
   "cell_type": "code",
   "execution_count": 44,
   "id": "3e0ce104-c891-4547-9cd5-d5cd59810f23",
   "metadata": {},
   "outputs": [
    {
     "name": "stdout",
     "output_type": "stream",
     "text": [
      "['India', 'Country', 'Taj', 'Mahal', 'Agra']\n"
     ]
    }
   ],
   "source": [
    "text = \"India is a beautiful Country with the Taj Mahal in Agra.\"\n",
    "caps = re.findall(r'\\b[A-Z][a-z]*\\b', text)\n",
    "print(caps)"
   ]
  },
  {
   "cell_type": "markdown",
   "id": "1a5809e1-1776-41ca-9c34-b1e5f96dc9fe",
   "metadata": {},
   "source": [
    "##### 50. Write a regex to replace all spaces in a string with a hyphen. "
   ]
  },
  {
   "cell_type": "code",
   "execution_count": 65,
   "id": "2880ef9d-9798-4c17-b533-c8fe5ae3093c",
   "metadata": {},
   "outputs": [
    {
     "name": "stdout",
     "output_type": "stream",
     "text": [
      "Python-is-great-for-data-science.\n"
     ]
    }
   ],
   "source": [
    "text = \"Python    is   great   for  data  science.\"\n",
    "cleaned = re.sub(r'\\s+', '-', text)\n",
    "print(cleaned)"
   ]
  },
  {
   "cell_type": "code",
   "execution_count": null,
   "id": "c7d022d5-ef9c-4bba-b6fa-640ca5d933e4",
   "metadata": {},
   "outputs": [],
   "source": []
  }
 ],
 "metadata": {
  "kernelspec": {
   "display_name": "Python 3 (ipykernel)",
   "language": "python",
   "name": "python3"
  },
  "language_info": {
   "codemirror_mode": {
    "name": "ipython",
    "version": 3
   },
   "file_extension": ".py",
   "mimetype": "text/x-python",
   "name": "python",
   "nbconvert_exporter": "python",
   "pygments_lexer": "ipython3",
   "version": "3.13.5"
  }
 },
 "nbformat": 4,
 "nbformat_minor": 5
}
