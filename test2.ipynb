{
 "cells": [
  {
   "cell_type": "markdown",
   "id": "7f00b060-e36d-4f09-b5de-ba5875a77fe4",
   "metadata": {},
   "source": [
    "##### 1.Find the largest and 2nd smallest element in a list"
   ]
  },
  {
   "cell_type": "code",
   "execution_count": 12,
   "id": "f3b773c1-2082-4b7d-8464-e9dec5f1b501",
   "metadata": {},
   "outputs": [
    {
     "name": "stdout",
     "output_type": "stream",
     "text": [
      "2nd smallest: 20 largest: 1478\n",
      "[1, 20, 25, 258, 369, 789, 1234, 1478, 2541]\n"
     ]
    }
   ],
   "source": [
    "numbers = [20,1,25,789,258,369,1234,2541,1478]\n",
    "n = sorted(numbers)\n",
    "second_smallest = n[1]\n",
    "largest = n[-2]\n",
    "\n",
    "print(\"2nd smallest:\",second_smallest,\"largest:\",largest)\n",
    "print(n)"
   ]
  },
  {
   "cell_type": "markdown",
   "id": "ab5534dc-f197-4c34-9089-22fb643bb45d",
   "metadata": {},
   "source": [
    "##### 2.Find the key with the largest value in a dictionary."
   ]
  },
  {
   "cell_type": "code",
   "execution_count": 10,
   "id": "e1e69062-fab3-44a3-96a8-88170bac6f8f",
   "metadata": {},
   "outputs": [
    {
     "data": {
      "text/plain": [
       "'march'"
      ]
     },
     "execution_count": 10,
     "metadata": {},
     "output_type": "execute_result"
    }
   ],
   "source": [
    "dic = {\"jan\":31, \"feb\": 28, \"march\":31, \"april\":30}\n",
    "max(dic)"
   ]
  },
  {
   "cell_type": "markdown",
   "id": "8a6ebe42-f81a-4598-889d-757a0b939d7e",
   "metadata": {},
   "source": [
    "#### 3.Create a new folder using os module and create a file inside it."
   ]
  },
  {
   "cell_type": "code",
   "execution_count": 6,
   "id": "ab928bf5-5694-4249-afbb-0bf141259da8",
   "metadata": {},
   "outputs": [],
   "source": [
    "import os"
   ]
  },
  {
   "cell_type": "code",
   "execution_count": 9,
   "id": "795c39d7-cec8-4571-af81-99c9c29738f9",
   "metadata": {},
   "outputs": [
    {
     "name": "stdout",
     "output_type": "stream",
     "text": [
      "IPython won't let you open fd={file} by default\n"
     ]
    }
   ],
   "source": [
    "os.mkdir(\"chiu\")\n",
    "f = open(\"chiu/newfile.txt\",\"w\")\n",
    "f.write(\"current working directory\")\n",
    "f.close()\n",
    "print(\"IPython won't let you open fd={file} by default\")"
   ]
  },
  {
   "cell_type": "markdown",
   "id": "a720bbb3-7e90-4b09-aca9-790c0571587a",
   "metadata": {},
   "source": [
    "#### 4. Write a recursive function to calculate Fibonacci series up to n terms."
   ]
  },
  {
   "cell_type": "code",
   "execution_count": 1,
   "id": "7afa2fd0-42d4-45d2-a41e-517cc89c095b",
   "metadata": {},
   "outputs": [
    {
     "name": "stdout",
     "output_type": "stream",
     "text": [
      "0 1 1 2 3 5 8 13 21 34 "
     ]
    }
   ],
   "source": [
    "a, b = 0, 1\n",
    "for _ in range(10):\n",
    "    print(a, end=\" \")\n",
    "    a, b = b, a + b"
   ]
  },
  {
   "cell_type": "markdown",
   "id": "ea40cc9d-e452-4066-ab41-18071e4d8f25",
   "metadata": {},
   "source": [
    "#### 5.Use a lambda with map() to convert a list of integers into their cubes."
   ]
  },
  {
   "cell_type": "code",
   "execution_count": 6,
   "id": "ff3efca7-b454-47f1-9971-c2b2edc6cb00",
   "metadata": {},
   "outputs": [
    {
     "name": "stdout",
     "output_type": "stream",
     "text": [
      "[1, 8, 27, 64, 125]\n"
     ]
    }
   ],
   "source": [
    "numbers = [1, 2, 3, 4, 5]\n",
    "cubes = list(map(lambda x: x**3, numbers))\n",
    "print(cubes) "
   ]
  },
  {
   "cell_type": "markdown",
   "id": "4fca3d70-be81-46e4-a1fb-c7c99341d2df",
   "metadata": {},
   "source": [
    "#### 6. Create a class Employee that increases salary by 10%."
   ]
  },
  {
   "cell_type": "code",
   "execution_count": 20,
   "id": "0222486c-18cb-49ed-8f30-f46de4400f2d",
   "metadata": {},
   "outputs": [
    {
     "name": "stdout",
     "output_type": "stream",
     "text": [
      "Employee: isha, Salary: 5000.00\n",
      "Employee: isha, Salary: 5500.00\n"
     ]
    }
   ],
   "source": [
    "class Employee:\n",
    "    def __init__(self, name, salary):\n",
    "        self.name = name\n",
    "        self.salary = salary\n",
    "\n",
    "    def increase_salary(self):\n",
    "        self.salary = self.salary * 1.10  \n",
    "\n",
    "    def __str__(self):\n",
    "        return f\"Employee: {self.name}, Salary: {self.salary:.2f}\"\n",
    "\n",
    "emp = Employee(\"isha\", 5000)\n",
    "print(emp) \n",
    "emp.increase_salary()\n",
    "print(emp)  "
   ]
  },
  {
   "cell_type": "markdown",
   "id": "8b2cbf3b-71fb-44f2-9d82-426fd192b79c",
   "metadata": {},
   "source": [
    " ##### 7.Write a program to print the date 30 days from today"
   ]
  },
  {
   "cell_type": "code",
   "execution_count": 21,
   "id": "559d17ec-2bfe-4fd2-b318-f502868d3663",
   "metadata": {},
   "outputs": [],
   "source": [
    "from datetime import date, timedelta"
   ]
  },
  {
   "cell_type": "code",
   "execution_count": 22,
   "id": "7f5855dd-53d8-476b-9625-44fa04176489",
   "metadata": {},
   "outputs": [],
   "source": [
    "today = date.today()"
   ]
  },
  {
   "cell_type": "code",
   "execution_count": null,
   "id": "28f26ce6-647c-45d4-9c7b-15b1c3bf0193",
   "metadata": {},
   "outputs": [],
   "source": []
  },
  {
   "cell_type": "markdown",
   "id": "c282b3bb-e9c5-4e12-82c3-f7f23f4505d0",
   "metadata": {},
   "source": [
    "#### 8.Write a program to convert radians to degrees and vice versa. "
   ]
  },
  {
   "cell_type": "code",
   "execution_count": null,
   "id": "212defad-8195-4ecc-a5b0-10ab82770cb6",
   "metadata": {},
   "outputs": [],
   "source": []
  },
  {
   "cell_type": "markdown",
   "id": "80a17312-49d3-4bb8-9330-d01643c29519",
   "metadata": {},
   "source": [
    " #### 9.Write a regex to validate if a string is a valid Indian mobile number (10 digits)."
   ]
  },
  {
   "cell_type": "code",
   "execution_count": null,
   "id": "bfc1e969-7974-459a-a61f-b1fe851371d5",
   "metadata": {},
   "outputs": [],
   "source": []
  },
  {
   "cell_type": "markdown",
   "id": "d3a27ed2-5568-440d-8815-485cf355959b",
   "metadata": {},
   "source": [
    "#### 10. Create a class Bank with encapsulated methods to show account details securely. "
   ]
  },
  {
   "cell_type": "code",
   "execution_count": 2,
   "id": "277f0544-440b-4e2c-a4ca-9d27a90ae6d0",
   "metadata": {},
   "outputs": [],
   "source": [
    "class BankAccount:\n",
    "    def __init__(self, account_holder, balance):\n",
    "        self.account_holder = account_holder\n",
    "        self.__balance = balance  # Private attribute\n",
    "\n",
    "    def deposit(self, amount):\n",
    "        if amount > 0:\n",
    "            self.__balance += amount\n",
    "            return f\"Deposited {amount}. New balance: {self.__balance}\"\n",
    "        return \"Invalid deposit amount\"\n",
    "\n",
    "    def withdraw(self, amount):\n",
    "        if 0 < amount <= self.__balance:\n",
    "            self.__balance -= amount\n",
    "            return f\"Withdrew {amount}. New balance: {self.__balance}\"\n",
    "        return \"Invalid withdrawal amount\"\n",
    "\n",
    "    def get_balance(self):\n",
    "        return self.__balance"
   ]
  },
  {
   "cell_type": "code",
   "execution_count": 4,
   "id": "80fc5666-96c3-4317-b236-668bf653128c",
   "metadata": {},
   "outputs": [
    {
     "name": "stdout",
     "output_type": "stream",
     "text": [
      "Deposited 500. New balance: 1500\n",
      "Withdrew 200. New balance: 1300\n",
      "1300\n"
     ]
    }
   ],
   "source": [
    "account = BankAccount(\"isha\", 1000)\n",
    "print(account.deposit(500)) \n",
    "print(account.withdraw(200))  \n",
    "print(account.get_balance()) "
   ]
  },
  {
   "cell_type": "code",
   "execution_count": null,
   "id": "2baaaa3d-d36a-4c3d-bcaa-1da4c38e8600",
   "metadata": {},
   "outputs": [],
   "source": []
  }
 ],
 "metadata": {
  "kernelspec": {
   "display_name": "Python 3 (ipykernel)",
   "language": "python",
   "name": "python3"
  },
  "language_info": {
   "codemirror_mode": {
    "name": "ipython",
    "version": 3
   },
   "file_extension": ".py",
   "mimetype": "text/x-python",
   "name": "python",
   "nbconvert_exporter": "python",
   "pygments_lexer": "ipython3",
   "version": "3.13.5"
  }
 },
 "nbformat": 4,
 "nbformat_minor": 5
}
