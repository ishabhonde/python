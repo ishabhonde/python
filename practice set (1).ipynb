{
 "cells": [
  {
   "cell_type": "markdown",
   "id": "ac14c2d0-2d14-4dbe-aebc-1c14df686bc4",
   "metadata": {},
   "source": [
    "##### 1.String (5 ouestions)"
   ]
  },
  {
   "cell_type": "markdown",
   "id": "3ca2e677-76a6-475f-9c4f-8640a6738f5a",
   "metadata": {},
   "source": [
    "##### 1.Check if a given string is a palindrome.\n"
   ]
  },
  {
   "cell_type": "code",
   "execution_count": 1,
   "id": "5eef0746-0f18-46bc-8a8e-afc93e7562bd",
   "metadata": {},
   "outputs": [
    {
     "name": "stdin",
     "output_type": "stream",
     "text": [
      "Isha: she is so cute\n"
     ]
    },
    {
     "name": "stdout",
     "output_type": "stream",
     "text": [
      "she is ugly\n"
     ]
    }
   ],
   "source": [
    "r = input(\"Isha:\")\n",
    "word = r.lower()\n",
    "Reverse = word[::-1]\n",
    "if word == Reverse:\n",
    "    print(\"she is so cute\")\n",
    "else:\n",
    "    print(\"she is ugly\")"
   ]
  },
  {
   "cell_type": "markdown",
   "id": "4d8b4fc9-bd9f-43ec-9119-a4567781a902",
   "metadata": {},
   "source": [
    "##### 2. Count the number of vowels in a string and store the result in a dictionary."
   ]
  },
  {
   "cell_type": "code",
   "execution_count": 2,
   "id": "3d0703d0-a2c7-4070-98b7-0163f18db447",
   "metadata": {},
   "outputs": [],
   "source": [
    "def count_vowels(word):\n",
    "    \"\"\"This Function count the vowel in the word.\"\"\"\n",
    "    word = word.lower()\n",
    "    a = e = i = o = u = 0\n",
    "    for ch in word:\n",
    "        if ch == \"a\":\n",
    "            a += 1\n",
    "        elif ch == \"e\":\n",
    "            e += 1\n",
    "        elif ch == \"i\":\n",
    "            i += 1\n",
    "        elif ch == \"o\":\n",
    "            o += 1\n",
    "        elif ch == \"u\":\n",
    "            u += 1\n",
    "            \n",
    "    return {\"a\": a, \"e\": e, \"i\": i, \"o\": o, \"u\": u}"
   ]
  },
  {
   "cell_type": "code",
   "execution_count": 3,
   "id": "734ab582-cab9-4959-8316-2d2ca2efa9cd",
   "metadata": {},
   "outputs": [
    {
     "data": {
      "text/plain": [
       "{'a': 1, 'e': 0, 'i': 1, 'o': 0, 'u': 0}"
      ]
     },
     "execution_count": 3,
     "metadata": {},
     "output_type": "execute_result"
    }
   ],
   "source": [
    "count_vowels(\"isha\")"
   ]
  },
  {
   "cell_type": "code",
   "execution_count": 4,
   "id": "a315b456-bb89-464c-a78a-c7ef613862e3",
   "metadata": {},
   "outputs": [
    {
     "data": {
      "text/plain": [
       "{'a': 1, 'e': 2, 'i': 1, 'o': 1, 'u': 0}"
      ]
     },
     "execution_count": 4,
     "metadata": {},
     "output_type": "execute_result"
    }
   ],
   "source": [
    "count_vowels(\"Hello My self isha\")"
   ]
  },
  {
   "cell_type": "code",
   "execution_count": 6,
   "id": "464a5abe-8caa-425a-be82-fafd82ea3af9",
   "metadata": {},
   "outputs": [
    {
     "name": "stdout",
     "output_type": "stream",
     "text": [
      "{'a': 1, 'e': 1, 'i': 1, 'o': 0, 'u': 0}\n",
      "{'a': 1, 'e': 1, 'i': 1, 'o': 0, 'u': 0}\n",
      "{'a': 1, 'e': 1, 'i': 1, 'o': 0, 'u': 0}\n",
      "{'a': 1, 'e': 1, 'i': 1, 'o': 0, 'u': 0}\n",
      "{'a': 1, 'e': 1, 'i': 1, 'o': 0, 'u': 0}\n"
     ]
    }
   ],
   "source": [
    "s = \"Festival\"\n",
    "vowels = \"aeiou\"\n",
    "count = {v:s.count(v) for v in vowels}\n",
    "for v in vowels:\n",
    "    print(count)"
   ]
  },
  {
   "cell_type": "markdown",
   "id": "f83cd410-d344-4acf-a2cd-368ad6f90d8b",
   "metadata": {},
   "source": [
    "##### 3. Convert the first letter of each word in a string to uppercase (title case manually)."
   ]
  },
  {
   "cell_type": "code",
   "execution_count": 8,
   "id": "2d149363-3b95-4d4b-a5e2-fd53a3edc6cc",
   "metadata": {},
   "outputs": [
    {
     "data": {
      "text/plain": [
       "'Hello My Name Is Isha'"
      ]
     },
     "execution_count": 8,
     "metadata": {},
     "output_type": "execute_result"
    }
   ],
   "source": [
    "word = \"Hello my name is isha\"\n",
    "word.title()"
   ]
  },
  {
   "cell_type": "markdown",
   "id": "a43cc377-1198-4278-93d4-866c534d8e9e",
   "metadata": {},
   "source": [
    "##### 4.Find the most frequently occurring character in a string."
   ]
  },
  {
   "cell_type": "code",
   "execution_count": 12,
   "id": "e8172dbf-e431-4540-92f3-90e0133be513",
   "metadata": {},
   "outputs": [
    {
     "name": "stdout",
     "output_type": "stream",
     "text": [
      "l\n"
     ]
    }
   ],
   "source": [
    "s1 = \"Apple\"\n",
    "freq = {ch:s.count(ch) for ch in s1}\n",
    "print(max(freq,key = freq.get))"
   ]
  },
  {
   "cell_type": "markdown",
   "id": "e5d16319-9a05-4530-9123-632fc61076d5",
   "metadata": {},
   "source": [
    "##### 5.Count digits, alphabets, and special characters separately in a string."
   ]
  },
  {
   "cell_type": "code",
   "execution_count": 13,
   "id": "73b15079-e1aa-486f-b97a-ec842ef0e24d",
   "metadata": {},
   "outputs": [
    {
     "name": "stdin",
     "output_type": "stream",
     "text": [
      "Enter a string: 2,3\n"
     ]
    },
    {
     "name": "stdout",
     "output_type": "stream",
     "text": [
      "alphabet 0 digit 2 special 1\n"
     ]
    }
   ],
   "source": [
    "w = input(\"Enter a string:\")\n",
    "digit = 0\n",
    "alphabet = 0\n",
    "special = 0\n",
    "\n",
    "for ch in w:\n",
    "    if ch.isalpha():\n",
    "        alphabet += 1\n",
    "    elif ch.isdigit():\n",
    "        digit += 1\n",
    "    else:\n",
    "        special += 1   \n",
    "print(\"alphabet\",alphabet,\"digit\",digit,\"special\",special)"
   ]
  },
  {
   "cell_type": "markdown",
   "id": "12279d69-88ef-439d-a3ff-e7b01f407e4f",
   "metadata": {},
   "source": [
    "#### 2.List (5 question)"
   ]
  },
  {
   "cell_type": "markdown",
   "id": "5b1464db-46a6-413f-b716-107a6a99dca2",
   "metadata": {},
   "source": [
    "##### 6.Remove duplicate elements from a list without using set()."
   ]
  },
  {
   "cell_type": "code",
   "execution_count": 16,
   "id": "c21952fb-b9b6-4306-8620-609d48e8d465",
   "metadata": {},
   "outputs": [
    {
     "name": "stdout",
     "output_type": "stream",
     "text": [
      "[1, 2, 3, 4, 8, 5, 7, 6, 9]\n"
     ]
    }
   ],
   "source": [
    "list = [1,2,2,3,3,4,8,5,7,6,8,2,6,7,4,2,9,8]\n",
    "new_list =[]\n",
    "\n",
    "for i in list:\n",
    "    if i not in new_list:\n",
    "        new_list.append(i)\n",
    "print(new_list)"
   ]
  },
  {
   "cell_type": "markdown",
   "id": "1de70b7f-f57a-4b79-b7ed-abea9bb315e3",
   "metadata": {},
   "source": [
    "##### 7. Reverse a list without using built-in functions."
   ]
  },
  {
   "cell_type": "code",
   "execution_count": 1,
   "id": "42d58203-264c-4e31-853c-796be2940ec5",
   "metadata": {},
   "outputs": [
    {
     "name": "stdout",
     "output_type": "stream",
     "text": [
      "[1, 2, 3, 4, 5, 6, 7, 8, 9, 0]\n"
     ]
    }
   ],
   "source": [
    "list = [0,9,8,7,6,5,4,3,2,1]\n",
    "list = list[::-1]\n",
    "print(list)"
   ]
  },
  {
   "cell_type": "markdown",
   "id": "1ee11c6b-e63e-42f0-bc0d-00e49c403c36",
   "metadata": {},
   "source": [
    "##### 8.Find the 2nd largest and 2nd smallest element in a list."
   ]
  },
  {
   "cell_type": "code",
   "execution_count": 4,
   "id": "84306d6c-5766-4cd3-895e-e9ca967ef4fe",
   "metadata": {},
   "outputs": [
    {
     "name": "stdout",
     "output_type": "stream",
     "text": [
      "2nd smallest: 15 2nd largest: 200\n",
      "[1, 15, 20, 20, 25, 85, 96, 200, 1456]\n"
     ]
    }
   ],
   "source": [
    "numbers = [20,1,85,96,25,20,1456,200,15,]\n",
    "n = sorted(numbers)\n",
    "second_smallest = n[1]\n",
    "second_largest = n[-2]\n",
    "\n",
    "print(\"2nd smallest:\",second_smallest,\"2nd largest:\",second_largest)\n",
    "print(n)"
   ]
  },
  {
   "cell_type": "markdown",
   "id": "c24806f4-9228-45fd-ae7e-6d7a41752be5",
   "metadata": {},
   "source": [
    "##### 9.Store the square of each element of a list into a new list (using list comprehension)"
   ]
  },
  {
   "cell_type": "code",
   "execution_count": 5,
   "id": "0dd352f8-5b67-4520-94a1-5bfae19b2b73",
   "metadata": {},
   "outputs": [
    {
     "data": {
      "text/plain": [
       "[1, 4, 9, 16, 25, 36, 49, 64, 81, 100, 121]"
      ]
     },
     "execution_count": 5,
     "metadata": {},
     "output_type": "execute_result"
    }
   ],
   "source": [
    "l1 = [1,2,3,4,5,6,7,8,9,10,11]\n",
    "[i**2 for i in l1]"
   ]
  },
  {
   "cell_type": "markdown",
   "id": "ad04efb0-c2fa-46ae-b64d-7ccbb21c9c1c",
   "metadata": {},
   "source": [
    "##### 10.Flatten a nested list into a single list."
   ]
  },
  {
   "cell_type": "code",
   "execution_count": 6,
   "id": "2cc7a63e-feb4-4e00-a470-89a5f38994cf",
   "metadata": {},
   "outputs": [
    {
     "name": "stdout",
     "output_type": "stream",
     "text": [
      "[1, 2, 3, 4, 5, 6]\n"
     ]
    }
   ],
   "source": [
    "nested = [[1, 2], [3, 4], [5, 6]]\n",
    "flattened = [x for sub in nested for x in sub]\n",
    "print(flattened)"
   ]
  },
  {
   "cell_type": "markdown",
   "id": "24ded0ab-c90e-45ad-94e5-1d3177e8b014",
   "metadata": {},
   "source": [
    "#### 3.Tuple (5 question)"
   ]
  },
  {
   "cell_type": "markdown",
   "id": "730347ba-e753-4ca2-ab96-16b11b24be0d",
   "metadata": {},
   "source": [
    "##### 11. Reverse a tuple without using [::-1]."
   ]
  },
  {
   "cell_type": "code",
   "execution_count": 13,
   "id": "f2d7052b-661f-47b4-a464-93a902228903",
   "metadata": {},
   "outputs": [
    {
     "name": "stdout",
     "output_type": "stream",
     "text": [
      "Reversed tuple: (5, 4, 3, 2, 1)\n"
     ]
    }
   ],
   "source": [
    "t = (1, 2, 3, 4, 5)\n",
    "t1 = tuple(reversed(t))  \n",
    "print(\"Reversed tuple:\", t1)"
   ]
  },
  {
   "cell_type": "markdown",
   "id": "2dde03a7-b720-41cf-b47e-cb37ec2ccbd2",
   "metadata": {},
   "source": [
    "##### 12.Extract unique elements from a tuple and store them in a new list."
   ]
  },
  {
   "cell_type": "code",
   "execution_count": 2,
   "id": "d8817192-f508-418f-ad73-5f632d508294",
   "metadata": {},
   "outputs": [
    {
     "name": "stdout",
     "output_type": "stream",
     "text": [
      "[1, 'hello', 2, 4, False, [9, 8, 7, 6], 6, 7]\n"
     ]
    }
   ],
   "source": [
    "tuple = (1,\"hello\",True,2,4,False,[9,8,7,6],2,1,4,6,6,7)\n",
    "unique = []\n",
    "for i in tuple:\n",
    "    if i not in unique:\n",
    "        unique.append(i)\n",
    "print(unique)"
   ]
  },
  {
   "cell_type": "markdown",
   "id": "ea9b37e6-2629-4388-8bc9-df39dd953724",
   "metadata": {},
   "source": [
    "##### 13.Concatenate two tuples and sort them."
   ]
  },
  {
   "cell_type": "code",
   "execution_count": 1,
   "id": "a8dad731-f64f-47a9-bd6e-bca561e34af8",
   "metadata": {},
   "outputs": [
    {
     "name": "stdout",
     "output_type": "stream",
     "text": [
      "(10, 11, 22, 33, 38, 55, 56, 74, 77, 88, 92)\n"
     ]
    }
   ],
   "source": [
    "t1 = (55,77,33,22,88,11)\n",
    "t2 = (10,92,38,74,56)\n",
    "Concatenate = t1 + t2\n",
    "sort = tuple(sorted(Concatenate))\n",
    "print(sort)"
   ]
  },
  {
   "cell_type": "markdown",
   "id": "e12e380e-5d60-4306-893f-01c8a80d7107",
   "metadata": {},
   "source": [
    "##### 14.Count the frequency of an element in a tuple without using count()."
   ]
  },
  {
   "cell_type": "code",
   "execution_count": 1,
   "id": "0d7b54f4-4f99-43c4-b4bb-7bce85c25d99",
   "metadata": {},
   "outputs": [
    {
     "name": "stdin",
     "output_type": "stream",
     "text": [
      "Enter the element: 4\n"
     ]
    },
    {
     "name": "stdout",
     "output_type": "stream",
     "text": [
      "element 4 -- count 2\n"
     ]
    }
   ],
   "source": [
    "a1 = (3,6,5,9,5,3,6,7,6,5,2,7,8,9,4,5,7,2,1,4) # 1st way\n",
    "element = int(input(\"Enter the element:\"))\n",
    "count = 0\n",
    "for i in a1:\n",
    "    if i == element:\n",
    "        count += 1\n",
    "print(\"element\",element,\"--\",\"count\",count)"
   ]
  },
  {
   "cell_type": "markdown",
   "id": "2f656f8b-b630-4475-a57d-19e2a9e54fa0",
   "metadata": {},
   "source": [
    "##### 15.From a tuple of numbers, create two tuples: one with even numbers and one with odd numbers."
   ]
  },
  {
   "cell_type": "code",
   "execution_count": 7,
   "id": "bb5a737a-7ab8-4be4-aa76-6d10a2a7abd1",
   "metadata": {},
   "outputs": [
    {
     "name": "stdout",
     "output_type": "stream",
     "text": [
      "even (2, 4, 6, 8, 0)\n",
      "odd (1, 3, 5, 7, 9)\n"
     ]
    }
   ],
   "source": [
    "n = (1,2,3,4,5,6,7,8,9,0)\n",
    "even = []\n",
    "odd = []\n",
    "for i in n:\n",
    "    if i % 2 == 0:\n",
    "        even.append(i)\n",
    "    else:\n",
    "        odd.append(i)\n",
    "even = tuple(even)\n",
    "odd = tuple(odd)\n",
    "print(\"even\",even)\n",
    "print(\"odd\",odd)"
   ]
  },
  {
   "cell_type": "markdown",
   "id": "6f95ef83-c368-4c43-b05d-74889c2c90a8",
   "metadata": {},
   "source": [
    "#### 4.Set (5 Question)"
   ]
  },
  {
   "cell_type": "markdown",
   "id": "a85f944d-bb7c-4529-9d4e-ec43b015c404",
   "metadata": {},
   "source": [
    "#####  16.Perform union, intersection, and difference of two sets without using built-in operators."
   ]
  },
  {
   "cell_type": "code",
   "execution_count": 45,
   "id": "57ac60e4-30c1-4de7-8a39-b7d1a8a03b9c",
   "metadata": {},
   "outputs": [
    {
     "name": "stdout",
     "output_type": "stream",
     "text": [
      "union: {1, 2, 3, 4, 5, 6}\n"
     ]
    }
   ],
   "source": [
    "# union\n",
    "A = {1,2,3}\n",
    "B = {4,5,6}\n",
    "set = A|B\n",
    "print(\"union:\", set)"
   ]
  },
  {
   "cell_type": "code",
   "execution_count": 46,
   "id": "e11301a1-1d93-4554-8906-46dd748f1048",
   "metadata": {},
   "outputs": [
    {
     "name": "stdout",
     "output_type": "stream",
     "text": [
      "intersection: {5, 6}\n"
     ]
    }
   ],
   "source": [
    "# intersection\n",
    "A = {1,2,3,4,5,6}\n",
    "B = {5,6,7,8,9,10}\n",
    "set = A & B\n",
    "print(\"intersection:\", set)"
   ]
  },
  {
   "cell_type": "code",
   "execution_count": 47,
   "id": "688cc63f-4a76-4ab5-91f6-c84855fed232",
   "metadata": {},
   "outputs": [
    {
     "name": "stdout",
     "output_type": "stream",
     "text": [
      "A - B: {1, 2}\n",
      "B - A: {5, 6}\n"
     ]
    }
   ],
   "source": [
    "# difference\n",
    "A = {1,2,3,4}\n",
    "B = {3,4,5,6}\n",
    "diff1 = A - B\n",
    "diff2 = B - A\n",
    "print(\"A - B:\",diff1)\n",
    "print(\"B - A:\",diff2)"
   ]
  },
  {
   "cell_type": "markdown",
   "id": "f586f5b3-2d20-4bb4-baa3-77d716d01013",
   "metadata": {},
   "source": [
    "##### 17.Remove a random element from a set (without using pop())"
   ]
  },
  {
   "cell_type": "code",
   "execution_count": 48,
   "id": "0f2dbe4a-36ff-42b0-8930-23384f1d3510",
   "metadata": {},
   "outputs": [
    {
     "name": "stdout",
     "output_type": "stream",
     "text": [
      "Removed: 2\n",
      "Updated: {0, 1, 3, 4, 5, 6, 7, 8, 9}\n"
     ]
    }
   ],
   "source": [
    "import random\n",
    "s = {1,2,3,4,5,6,7,8,9,0} # set\n",
    "x = list(s) # converting set into list\n",
    "y = random.choice(x)  # it will pick any random element\n",
    "s.remove(y) # and remove that random element from set\n",
    "\n",
    "print(\"Removed:\",y)\n",
    "print(\"Updated:\",s)"
   ]
  },
  {
   "cell_type": "markdown",
   "id": "78cf357f-79bd-4190-a42b-191b0423f017",
   "metadata": {},
   "source": [
    "##### 18.Convert a list into a set and check if duplicates are removed."
   ]
  },
  {
   "cell_type": "code",
   "execution_count": 1,
   "id": "513d9676-a741-414d-8014-7a4c5349a9cb",
   "metadata": {},
   "outputs": [
    {
     "name": "stdout",
     "output_type": "stream",
     "text": [
      "{2, 4, 5, 6, 7}\n"
     ]
    }
   ],
   "source": [
    "l1 = [2,2,4,4,5,5,6,6,6,7,7,7]\n",
    "s1 = set(l1)\n",
    "print(s1)"
   ]
  },
  {
   "cell_type": "markdown",
   "id": "1a55f59d-2c9b-4df8-a59a-198dd040bed9",
   "metadata": {},
   "source": [
    "##### 19.Check if two sets are disjoint."
   ]
  },
  {
   "cell_type": "code",
   "execution_count": 49,
   "id": "89b0d0fe-0b90-4793-86f0-3392af8804ed",
   "metadata": {},
   "outputs": [
    {
     "data": {
      "text/plain": [
       "True"
      ]
     },
     "execution_count": 49,
     "metadata": {},
     "output_type": "execute_result"
    }
   ],
   "source": [
    "a ={1,2}\n",
    "b ={3,4}\n",
    "a.isdisjoint(b)"
   ]
  },
  {
   "cell_type": "markdown",
   "id": "a9689cbc-6a2a-4ee7-80cc-6575c9bec827",
   "metadata": {},
   "source": [
    "##### 20.Find the sum of all elements in a set."
   ]
  },
  {
   "cell_type": "code",
   "execution_count": 50,
   "id": "26e78ca7-7dec-47ae-b18a-0a126dfb3aea",
   "metadata": {},
   "outputs": [
    {
     "data": {
      "text/plain": [
       "4401"
      ]
     },
     "execution_count": 50,
     "metadata": {},
     "output_type": "execute_result"
    }
   ],
   "source": [
    "a = {123,156,1789,236,456,789,852}\n",
    "sum(a)"
   ]
  },
  {
   "cell_type": "markdown",
   "id": "4cf5a79f-0438-4a60-9d2b-710ca76053c1",
   "metadata": {},
   "source": [
    "#### 5.Dictionary (5 Questions)"
   ]
  },
  {
   "cell_type": "markdown",
   "id": "7bf8fda9-54f9-4d6d-9bec-bc6e66641428",
   "metadata": {},
   "source": [
    "##### 21.Create a dictionary and print keys in ascending order."
   ]
  },
  {
   "cell_type": "code",
   "execution_count": 51,
   "id": "a22c7f46-d2fe-4b56-83b3-06439473ab60",
   "metadata": {},
   "outputs": [
    {
     "name": "stdout",
     "output_type": "stream",
     "text": [
      "['a', 'b', 'c']\n"
     ]
    }
   ],
   "source": [
    "dict = {\"b\":2, \"c\":3, \"a\":1}\n",
    "s=sorted(dict.keys())\n",
    "print(s)"
   ]
  },
  {
   "cell_type": "markdown",
   "id": "4bba9d49-62f4-4b6d-9ca1-f8b8867c6708",
   "metadata": {},
   "source": [
    "##### 22.Add a new key to a dictionary with value equal to the sum of existing values."
   ]
  },
  {
   "cell_type": "code",
   "execution_count": 52,
   "id": "6517a7fc-8cb3-4ef6-b395-820177aba68e",
   "metadata": {},
   "outputs": [
    {
     "name": "stdout",
     "output_type": "stream",
     "text": [
      "60\n"
     ]
    }
   ],
   "source": [
    "d = {\"a\": 10, \"b\": 20, \"c\": 30} \n",
    "d_total = sum(d.values())\n",
    "print(d_total)"
   ]
  },
  {
   "cell_type": "code",
   "execution_count": 53,
   "id": "03e6dec3-bef2-479f-97b1-c4e5f3085d45",
   "metadata": {},
   "outputs": [
    {
     "name": "stdout",
     "output_type": "stream",
     "text": [
      "{'a': 1, 'b': 2, 'c': 3, 'd': 4}\n"
     ]
    }
   ],
   "source": [
    "d1 = {\"a\": 1, \"b\": 2}\n",
    "d2 = {\"c\": 3, \"d\": 4}\n",
    "d1.update(d2)\n",
    "print(d1)"
   ]
  },
  {
   "cell_type": "code",
   "execution_count": 54,
   "id": "38e65acd-22b6-4183-8194-28ea52f5bf11",
   "metadata": {},
   "outputs": [
    {
     "name": "stdout",
     "output_type": "stream",
     "text": [
      "{'c': 3, 'd': 4, 'a': 1, 'b': 2}\n"
     ]
    }
   ],
   "source": [
    "d1 = {\"a\": 1, \"b\": 2}\n",
    "d2 = {\"c\": 3, \"d\": 4}\n",
    "d2.update(d1)\n",
    "print(d2)"
   ]
  },
  {
   "cell_type": "code",
   "execution_count": 55,
   "id": "fb5f06ee-b789-4a29-a4b3-98e2418f9c41",
   "metadata": {},
   "outputs": [
    {
     "name": "stdout",
     "output_type": "stream",
     "text": [
      "{'a': 1, 'b': 2, 'c': 3, 'd': 4}\n"
     ]
    }
   ],
   "source": [
    "d1 = {\"a\": 1, \"b\": 2}\n",
    "d2 = {\"c\": 3, \"d\": 4}\n",
    "merged = {**d1,**d2}\n",
    "print(merged)"
   ]
  },
  {
   "cell_type": "markdown",
   "id": "7719abed-aae8-4843-968c-418e02324e48",
   "metadata": {},
   "source": [
    "##### 24.Find the key with the largest value in a dictionary."
   ]
  },
  {
   "cell_type": "code",
   "execution_count": 56,
   "id": "9fc3723d-1731-415c-959c-18578fb1651c",
   "metadata": {},
   "outputs": [
    {
     "name": "stdout",
     "output_type": "stream",
     "text": [
      "a\n"
     ]
    }
   ],
   "source": [
    "d = {\"a\": 500, \"b\": 150, \"c\": 100}\n",
    "max_key = max(d, key=d.get)\n",
    "print(max_key)"
   ]
  },
  {
   "cell_type": "markdown",
   "id": "339c76fa-2db2-4c95-ac5e-f65b89d3c1a0",
   "metadata": {},
   "source": [
    "##### 25.Store the frequency of characters of a string in a dictionary."
   ]
  },
  {
   "cell_type": "code",
   "execution_count": 1,
   "id": "12d9d41f-33e1-4733-a516-8460e3aab1dd",
   "metadata": {},
   "outputs": [
    {
     "name": "stdout",
     "output_type": "stream",
     "text": [
      "{'b': 1, 'B': 1, 't': 1, 's': 1, 'l': 2, 'a': 2, 'k': 1, 'e': 1}\n"
     ]
    }
   ],
   "source": [
    "s = \"Basketball\"\n",
    "freq = {Ba: s.count(Ba) for Ba in set(s)}\n",
    "print(freq)"
   ]
  },
  {
   "cell_type": "markdown",
   "id": "a9fab9ef-bbda-477d-b754-1c64f5fc7646",
   "metadata": {},
   "source": [
    "#### 6.Conditional Statements (5 Questions)"
   ]
  },
  {
   "cell_type": "markdown",
   "id": "0e4e19bb-548b-4ba7-b62c-d9fdcaf50d5c",
   "metadata": {},
   "source": [
    "##### 26.Take age as input and check if the person is eligible to vote or not."
   ]
  },
  {
   "cell_type": "code",
   "execution_count": 9,
   "id": "9435572e-1570-47f4-9573-4a7d06b45792",
   "metadata": {},
   "outputs": [],
   "source": [
    "def Eligibility():\n",
    "    age = int(input(\"Enter your name: \"))\n",
    "    if age >=20:\n",
    "        print(\"you are eligible to vote.\")\n",
    "    else:\n",
    "        print(\"you are not eligible to vote.\")"
   ]
  },
  {
   "cell_type": "code",
   "execution_count": 11,
   "id": "741596cb-c449-4a20-83f4-a4c3cda1e9b7",
   "metadata": {},
   "outputs": [
    {
     "name": "stdin",
     "output_type": "stream",
     "text": [
      "Enter your name:  21\n"
     ]
    },
    {
     "name": "stdout",
     "output_type": "stream",
     "text": [
      "you are eligible to vote.\n"
     ]
    }
   ],
   "source": [
    "Eligibility()"
   ]
  },
  {
   "cell_type": "markdown",
   "id": "ca9e6a1e-c81b-47d6-834d-17953c326d76",
   "metadata": {},
   "source": [
    "##### 27.Find the largest among three numbers (using nested if)."
   ]
  },
  {
   "cell_type": "code",
   "execution_count": 13,
   "id": "eb597653-d16b-4967-8006-ddedf7e14aff",
   "metadata": {},
   "outputs": [
    {
     "name": "stdin",
     "output_type": "stream",
     "text": [
      "Enter first number:  25\n",
      "Enter second number:  12\n",
      "Enter third number:  12\n"
     ]
    },
    {
     "name": "stdout",
     "output_type": "stream",
     "text": [
      "Largest number is: 25\n"
     ]
    }
   ],
   "source": [
    "a = int(input(\"Enter first number: \"))\n",
    "b = int(input(\"Enter second number: \"))\n",
    "c = int(input(\"Enter third number: \"))\n",
    "if a >= b:\n",
    "    if a >= c:\n",
    "        print(\"Largest number is:\", a)\n",
    "    else:\n",
    "        print(\"Largest number is:\", c)\n",
    "else:\n",
    "    if b >= c:\n",
    "        print(\"Largest number is:\", b)\n",
    "    else:\n",
    "        print(\"Largest number is:\", c)"
   ]
  },
  {
   "cell_type": "code",
   "execution_count": 14,
   "id": "edf9d401-5ae0-4218-8f54-a721d26da454",
   "metadata": {},
   "outputs": [
    {
     "name": "stdout",
     "output_type": "stream",
     "text": [
      "Largest number is: 30\n"
     ]
    }
   ],
   "source": [
    "a,b,c = 10,20,30\n",
    "if a > b and a > c:\n",
    "    print(\"Largest number is:\",a)\n",
    "elif b > a and b > c:\n",
    "    print(\"Largest number is:\",b)\n",
    "else:\n",
    "    print(\"Largest number is:\",c)"
   ]
  },
  {
   "cell_type": "code",
   "execution_count": 15,
   "id": "b12e140d-301d-4df8-bc84-eea7dd8b78f3",
   "metadata": {},
   "outputs": [
    {
     "name": "stdout",
     "output_type": "stream",
     "text": [
      "Largest number is: 30\n"
     ]
    }
   ],
   "source": [
    "a,b,c = 10,20,30\n",
    "print(\"Largest number is:\",max(a,b,c))"
   ]
  },
  {
   "cell_type": "markdown",
   "id": "013167e6-b75a-4b6a-9d04-93f2d04f0de3",
   "metadata": {},
   "source": [
    "##### 28.Check if a given number is prime or not."
   ]
  },
  {
   "cell_type": "code",
   "execution_count": 17,
   "id": "95b83d15-2f60-4b8c-bf21-966cc8a45ba6",
   "metadata": {},
   "outputs": [
    {
     "name": "stdin",
     "output_type": "stream",
     "text": [
      "enter a number  3\n"
     ]
    },
    {
     "name": "stdout",
     "output_type": "stream",
     "text": [
      "it is a prime number  3\n"
     ]
    }
   ],
   "source": [
    "n = int(input(\"enter a number \"))\n",
    "if n==2:\n",
    "    print(\"it is a prime number \", n)\n",
    "elif n==3:\n",
    "    print(\"it is a prime number \", n)\n",
    "    \n",
    "elif n%3==0 or n%2==0 or n%5==0 or n%7==0:\n",
    "    print(\"it is divisible by 3 or 2 or 5\")\n",
    "else:\n",
    "    print(\"it is a prime number\")"
   ]
  },
  {
   "cell_type": "markdown",
   "id": "cce819ee-1d63-43dc-a632-8912c1220712",
   "metadata": {},
   "source": [
    "##### 29.Assign grade (A, B, C, Fail) based on marks input."
   ]
  },
  {
   "cell_type": "code",
   "execution_count": 6,
   "id": "71837eca-3f19-4c48-9620-9cd4232d8ef4",
   "metadata": {},
   "outputs": [
    {
     "name": "stdin",
     "output_type": "stream",
     "text": [
      " 85\n"
     ]
    },
    {
     "name": "stdout",
     "output_type": "stream",
     "text": [
      "Grade: A\n"
     ]
    }
   ],
   "source": [
    "marks = int(input())\n",
    "if marks < 0 or marks > 100:\n",
    "    print(\"Invalid marks.\")\n",
    "elif marks >= 80:\n",
    "    print(\"Grade: A\")\n",
    "elif marks >= 60:\n",
    "    print(\"Grade: B\")\n",
    "elif marks >= 40:\n",
    "    print(\"Grade: C\")\n",
    "else:\n",
    "    print(\"Grade: Fail\")"
   ]
  },
  {
   "cell_type": "markdown",
   "id": "5ddb71ac-0310-4942-82b8-e17e6ce7a0bf",
   "metadata": {},
   "source": [
    "##### 30.Check if a number is positive, negative, or zero."
   ]
  },
  {
   "cell_type": "code",
   "execution_count": 12,
   "id": "65eef6b7-8aa7-46b4-b338-6332f0193eca",
   "metadata": {},
   "outputs": [
    {
     "name": "stdin",
     "output_type": "stream",
     "text": [
      " 0\n"
     ]
    },
    {
     "name": "stdout",
     "output_type": "stream",
     "text": [
      "The number is positive.\n"
     ]
    }
   ],
   "source": [
    "number = int(input())\n",
    "if number >= 0:\n",
    "        print(\"The number is positive.\")\n",
    "elif number <= 0:\n",
    "        print(\"The number is Negative.\")\n",
    "else:\n",
    "        print(\"The number is Zero.\")"
   ]
  },
  {
   "cell_type": "markdown",
   "id": "af4cf1fb-270c-4c27-ac67-92fa9ac230a1",
   "metadata": {},
   "source": [
    "#### 7.Loops – For & While (5 Questions)"
   ]
  },
  {
   "cell_type": "markdown",
   "id": "8e5860cf-036a-4a6d-9f05-ff7b26e06f6d",
   "metadata": {},
   "source": [
    "##### 31.Print the first 10 numbers of the Fibonacci series using for loop."
   ]
  },
  {
   "cell_type": "code",
   "execution_count": 16,
   "id": "75568144-2744-440b-91e6-6e7bc2aaf383",
   "metadata": {},
   "outputs": [
    {
     "name": "stdout",
     "output_type": "stream",
     "text": [
      "0 1 1 2 3 5 8 13 21 34 "
     ]
    }
   ],
   "source": [
    "a, b = 0, 1\n",
    "for _ in range(10):\n",
    "    print(a, end=\" \")\n",
    "    a, b = b, a + b"
   ]
  },
  {
   "cell_type": "markdown",
   "id": "4dc886b5-d6ce-4ba3-98a6-a390f9ff0de8",
   "metadata": {},
   "source": [
    "##### 32.Find the factorial of a number using while loop."
   ]
  },
  {
   "cell_type": "code",
   "execution_count": 18,
   "id": "594616bb-08f5-4e25-8bee-f84c1353facd",
   "metadata": {},
   "outputs": [
    {
     "name": "stdout",
     "output_type": "stream",
     "text": [
      "\n",
      "Factorial: 24\n"
     ]
    }
   ],
   "source": [
    "n= 4\n",
    "fact = 1\n",
    "while n > 0:\n",
    "    fact *=n\n",
    "    n  -= 1\n",
    "print(\"\\nFactorial:\",fact)"
   ]
  },
  {
   "cell_type": "markdown",
   "id": "b231f3a4-f346-423e-ae69-245a50b89630",
   "metadata": {},
   "source": [
    "##### 33.Input a number and find the sum of its digits using while."
   ]
  },
  {
   "cell_type": "code",
   "execution_count": 19,
   "id": "cb72d70b-9033-47b0-855b-c01314237940",
   "metadata": {},
   "outputs": [
    {
     "name": "stdout",
     "output_type": "stream",
     "text": [
      "sum of didgit: 10\n"
     ]
    }
   ],
   "source": [
    "n = 1234\n",
    "s = 0\n",
    "while n > 0:\n",
    "    s += n % 10\n",
    "    n //= 10\n",
    "print(\"sum of didgit:\",s)"
   ]
  },
  {
   "cell_type": "markdown",
   "id": "35d12c76-a70f-46f6-9154-9651bbb2512a",
   "metadata": {},
   "source": [
    "##### 34.Print all elements of a list in reverse order without using reverse()."
   ]
  },
  {
   "cell_type": "code",
   "execution_count": 27,
   "id": "45f3a097-0b87-4944-a5f1-68f81df59011",
   "metadata": {},
   "outputs": [
    {
     "name": "stdout",
     "output_type": "stream",
     "text": [
      "40\n",
      "36\n",
      "32\n",
      "28\n",
      "24\n",
      "20\n",
      "16\n",
      "12\n",
      "8\n",
      "4\n"
     ]
    }
   ],
   "source": [
    "l1 = [4,8,12,16,20,24,28,32,36,40]\n",
    "for i in range(len(l1) - 1, -1, -1):\n",
    "    print(l1[i])"
   ]
  },
  {
   "cell_type": "markdown",
   "id": "bb804249-2019-4720-8973-61f2d3b703ff",
   "metadata": {},
   "source": [
    "##### 35.Print a star pattern (triangle) using nested loops."
   ]
  },
  {
   "cell_type": "code",
   "execution_count": 29,
   "id": "431fba76-7c5f-4a9b-aa29-64e875605bff",
   "metadata": {},
   "outputs": [
    {
     "name": "stdout",
     "output_type": "stream",
     "text": [
      "* \n",
      "* * \n",
      "* * * \n",
      "* * * * \n",
      "* * * * * \n"
     ]
    }
   ],
   "source": [
    "rows = 5\n",
    "for i in range(0, rows):\n",
    "    for j in range(0, i + 1):\n",
    "        print(\"*\", end=' ')\n",
    "    print(\"\\r\")"
   ]
  },
  {
   "cell_type": "markdown",
   "id": "0dac0fc7-05e5-45c3-b1dd-6f05795adf2d",
   "metadata": {},
   "source": [
    "#### 8.File Handling (5 Questions)"
   ]
  },
  {
   "cell_type": "markdown",
   "id": "2a6dfbdf-d81d-4484-814e-255ae4b2e1c5",
   "metadata": {},
   "source": [
    "##### 36.Write some text into a file and then read and print it."
   ]
  },
  {
   "cell_type": "code",
   "execution_count": 36,
   "id": "fca2a27f-9df6-4984-a975-147ecdb27dd7",
   "metadata": {},
   "outputs": [],
   "source": [
    "f = open(\"test1.txt\", \"w\")\n",
    "f.write(\"Hello myself Isha\")\n",
    "f.close()"
   ]
  },
  {
   "cell_type": "code",
   "execution_count": 38,
   "id": "d5c7ab1e-449f-4ccc-aa63-75c38ea663b5",
   "metadata": {},
   "outputs": [],
   "source": [
    "f = open(\"test1.txt\", \"r\")"
   ]
  },
  {
   "cell_type": "code",
   "execution_count": 39,
   "id": "0db20373-923d-41cc-a636-f456f0c6fdc5",
   "metadata": {},
   "outputs": [
    {
     "data": {
      "text/plain": [
       "'Hello myself Isha'"
      ]
     },
     "execution_count": 39,
     "metadata": {},
     "output_type": "execute_result"
    }
   ],
   "source": [
    "f.read()"
   ]
  },
  {
   "cell_type": "markdown",
   "id": "ad7a0dac-5734-4d48-9fe7-2c1ef79798f9",
   "metadata": {},
   "source": [
    "##### 37.Count the total number of lines in a file."
   ]
  },
  {
   "cell_type": "code",
   "execution_count": 8,
   "id": "00298293-6381-4f81-bdd5-4b9ef681c829",
   "metadata": {},
   "outputs": [
    {
     "name": "stdout",
     "output_type": "stream",
     "text": [
      "Hello myself Isha\n"
     ]
    }
   ],
   "source": [
    "file = open(\"test1.txt\", \"r\")\n",
    "line = file.readline()\n",
    "print(line)\n",
    "file.close()"
   ]
  },
  {
   "cell_type": "markdown",
   "id": "5f3e9ff3-158f-4ce7-8ff9-8f2b2f83028b",
   "metadata": {},
   "source": [
    "##### 38.Count vowels and consonants in a file."
   ]
  },
  {
   "cell_type": "code",
   "execution_count": 10,
   "id": "02469dae-05a2-4a10-a175-2216d468a268",
   "metadata": {},
   "outputs": [
    {
     "name": "stdout",
     "output_type": "stream",
     "text": [
      "Vowels: 0\n",
      "Consonants: 0\n"
     ]
    }
   ],
   "source": [
    "f= open(\"test.txt\", \"r\" )\n",
    "text = f.read().lower()\n",
    "f.close()\n",
    "vowels = 0\n",
    "consonants = 0\n",
    "for ch in text:\n",
    "    if ch.isalpha():\n",
    "        if ch in \"aeiou\":\n",
    "            vowels += 1\n",
    "        else:\n",
    "            consonants += 1\n",
    "\n",
    "print(\"Vowels:\", vowels)\n",
    "print(\"Consonants:\", consonants)"
   ]
  },
  {
   "cell_type": "markdown",
   "id": "4a5e7cc8-fc35-4847-a053-670ee6ca52a2",
   "metadata": {},
   "source": [
    "##### 39.Convert the content of a file into uppercase and store it in another file."
   ]
  },
  {
   "cell_type": "code",
   "execution_count": 13,
   "id": "436efd13-4f0f-4ddb-8626-4da18b4d8b25",
   "metadata": {},
   "outputs": [],
   "source": [
    "with open(\"test1.txt\") as f:\n",
    "    lines = f.read().upper()\n",
    "with open(\"upper.txt\", \"w\") as f:\n",
    "    f.write(lines)\n",
    "    f.close()"
   ]
  },
  {
   "cell_type": "code",
   "execution_count": 14,
   "id": "12aad93d-f960-4313-8c33-0b338aee4f7b",
   "metadata": {},
   "outputs": [
    {
     "data": {
      "text/plain": [
       "'HELLO MYSELF ISHA'"
      ]
     },
     "execution_count": 14,
     "metadata": {},
     "output_type": "execute_result"
    }
   ],
   "source": [
    "f = open(\"upper.txt\", \"r\")\n",
    "f.read()"
   ]
  },
  {
   "cell_type": "markdown",
   "id": "2cb8357a-d82d-4867-80c5-aeb505d13b8f",
   "metadata": {},
   "source": [
    "##### 40.Read a CSV file and print its rows."
   ]
  },
  {
   "cell_type": "code",
   "execution_count": 16,
   "id": "967f32ec-23b1-4577-ae6e-33c7d28e1cd6",
   "metadata": {},
   "outputs": [
    {
     "name": "stdout",
     "output_type": "stream",
     "text": [
      "['Hello myself Isha']\n"
     ]
    }
   ],
   "source": [
    "import csv\n",
    "with open(\"test1.txt\", newline=\"\") as f:\n",
    "    reader = csv.reader(f)\n",
    "    for row in reader:\n",
    "        print(row)"
   ]
  },
  {
   "cell_type": "markdown",
   "id": "f441cf8a-3e22-434d-a3b2-1f0b4fe0a9b2",
   "metadata": {},
   "source": [
    "#### 9. OS Module (5 Questions)"
   ]
  },
  {
   "cell_type": "code",
   "execution_count": 17,
   "id": "a70b7016-321f-43ae-bd83-54c2dc583e1a",
   "metadata": {},
   "outputs": [],
   "source": [
    "import os"
   ]
  },
  {
   "cell_type": "markdown",
   "id": "f5d349f8-2e11-423e-8a93-55c44f920184",
   "metadata": {},
   "source": [
    "##### 41.Print the current working directory using os module."
   ]
  },
  {
   "cell_type": "code",
   "execution_count": 18,
   "id": "39a8ef7b-d23c-4fd3-a30e-605be7d05120",
   "metadata": {},
   "outputs": [
    {
     "data": {
      "text/plain": [
       "'C:\\\\Users\\\\ishab\\\\Assisement 1'"
      ]
     },
     "execution_count": 18,
     "metadata": {},
     "output_type": "execute_result"
    }
   ],
   "source": [
    "os.getcwd()"
   ]
  },
  {
   "cell_type": "markdown",
   "id": "2cd31731-251f-4e94-a21c-605e22415243",
   "metadata": {},
   "source": [
    "##### 42.Create a new folder using os module and create a file inside it."
   ]
  },
  {
   "cell_type": "code",
   "execution_count": 20,
   "id": "9735e6a4-2b70-4fb4-9faf-eade041e414d",
   "metadata": {},
   "outputs": [
    {
     "name": "stdout",
     "output_type": "stream",
     "text": [
      "IPython won't let you open fd={file} by default\n"
     ]
    }
   ],
   "source": [
    "os.mkdir(\"isha\")\n",
    "f = open(\"isha/newfile.txt\",\"w\")\n",
    "f.write(\"current working directory\")\n",
    "f.close()\n",
    "print(\"IPython won't let you open fd={file} by default\")"
   ]
  },
  {
   "cell_type": "markdown",
   "id": "852e1b65-a4f5-4864-ae0b-29000d65239b",
   "metadata": {},
   "source": [
    "##### 43. List all files and folders inside a directory."
   ]
  },
  {
   "cell_type": "code",
   "execution_count": 21,
   "id": "27e0a3db-6e26-45b2-9356-7c2c56f1aa52",
   "metadata": {},
   "outputs": [
    {
     "data": {
      "text/plain": [
       "['.ipynb_checkpoints',\n",
       " 'isha',\n",
       " 'newfolder',\n",
       " 'practice set.ipynb',\n",
       " 'test.txt',\n",
       " 'test1.txt',\n",
       " 'upper.txt']"
      ]
     },
     "execution_count": 21,
     "metadata": {},
     "output_type": "execute_result"
    }
   ],
   "source": [
    "os.listdir()"
   ]
  },
  {
   "cell_type": "markdown",
   "id": "0b610aaa-14d6-4a67-9bfd-243f9ff06f3c",
   "metadata": {},
   "source": [
    "##### 44.Check the size of a file using os module."
   ]
  },
  {
   "cell_type": "code",
   "execution_count": 23,
   "id": "b678bbc9-9763-4352-abdb-fd2413f2de42",
   "metadata": {},
   "outputs": [
    {
     "name": "stdout",
     "output_type": "stream",
     "text": [
      "File size of test1.txt is: 17 bytes\n"
     ]
    }
   ],
   "source": [
    "filename = \"test1.txt\"\n",
    "size = os.path.getsize(filename)\n",
    "print(f\"File size of {filename} is: {size} bytes\")"
   ]
  },
  {
   "cell_type": "markdown",
   "id": "8d77242a-a8b3-4f7d-af31-5451f5ad57e1",
   "metadata": {},
   "source": [
    "##### 45.count all.txt files in a directory."
   ]
  },
  {
   "cell_type": "code",
   "execution_count": 24,
   "id": "cc792c8e-f0b3-43d9-aa0f-c3b0cb80578f",
   "metadata": {},
   "outputs": [
    {
     "name": "stdout",
     "output_type": "stream",
     "text": [
      "{'.txt files:', 3}\n"
     ]
    }
   ],
   "source": [
    "files = os.listdir()\n",
    "count = 0\n",
    "for f in files:\n",
    "    if f.endswith(\".txt\"):\n",
    "        count += 1\n",
    "result = {\".txt files:\", count}\n",
    "print(result)"
   ]
  },
  {
   "cell_type": "markdown",
   "id": "7b596277-303b-49f6-843c-8eb9d5595cfb",
   "metadata": {},
   "source": [
    "#### 10.Try-Exception (5 Questions)"
   ]
  },
  {
   "cell_type": "markdown",
   "id": "93de5d47-47e5-47c3-b966-1dec5c07be21",
   "metadata": {},
   "source": [
    "##### 46.Write a program that takes user input and prints its square. Handle errors if input is invalid."
   ]
  },
  {
   "cell_type": "code",
   "execution_count": 25,
   "id": "ea898f38-b120-4d89-8235-5bc4bdf0063c",
   "metadata": {},
   "outputs": [
    {
     "name": "stdin",
     "output_type": "stream",
     "text": [
      "Enter a number:  2\n"
     ]
    },
    {
     "name": "stdout",
     "output_type": "stream",
     "text": [
      "Square is: 4\n"
     ]
    }
   ],
   "source": [
    "try:\n",
    "    num = int(input(\"Enter a number: \"))\n",
    "    print(\"Square is:\", num**2)\n",
    "except ValueError:   \n",
    "    print(\"Invalid input! Please enter a number.\")"
   ]
  },
  {
   "cell_type": "markdown",
   "id": "1dc219f7-5727-42a0-8d0a-44dd22a3c7a5",
   "metadata": {},
   "source": [
    "##### 47.Handle ZeroDivisionError with an example program."
   ]
  },
  {
   "cell_type": "code",
   "execution_count": 33,
   "id": "d31e0504-3a41-47fd-9066-7b9cea9414e4",
   "metadata": {},
   "outputs": [
    {
     "name": "stdin",
     "output_type": "stream",
     "text": [
      "Enter a number:  0\n"
     ]
    },
    {
     "name": "stdout",
     "output_type": "stream",
     "text": [
      "Error occurred: division by zero\n",
      "Execution completed.\n"
     ]
    }
   ],
   "source": [
    "try:\n",
    "    x = int(input(\"Enter a number: \"))\n",
    "    y = 10 / x\n",
    "    print(f\"Result: {y}\")\n",
    "except Exception as e:\n",
    "    print(f\"Error occurred: {e}\")\n",
    "else:\n",
    "    print(\"No exceptions occurred.\")\n",
    "finally:\n",
    "    print(\"Execution completed.\")"
   ]
  },
  {
   "cell_type": "markdown",
   "id": "3898d36b-c0ac-4317-84af-e0937dce27de",
   "metadata": {},
   "source": [
    "##### 48.Handle FileNotFoundError with an example program."
   ]
  },
  {
   "cell_type": "code",
   "execution_count": 35,
   "id": "d4cb4a1c-299a-481a-8296-2b1f1c7320c6",
   "metadata": {},
   "outputs": [
    {
     "name": "stdout",
     "output_type": "stream",
     "text": [
      "File not found!\n"
     ]
    }
   ],
   "source": [
    "try:\n",
    "    f = open(\"sample.txt\", \"r\")   \n",
    "    print(f.read())\n",
    "    f.close()\n",
    "except FileNotFoundError:\n",
    "    print(\"File not found!\")"
   ]
  },
  {
   "cell_type": "markdown",
   "id": "147b0286-c70b-42e0-9db6-c94cf19d59e7",
   "metadata": {},
   "source": [
    "##### 49.Handle both ValueError and TypeError with an example."
   ]
  },
  {
   "cell_type": "code",
   "execution_count": 36,
   "id": "d9fb7656-623b-43d4-ae47-4ca6c9d9c900",
   "metadata": {},
   "outputs": [
    {
     "name": "stdin",
     "output_type": "stream",
     "text": [
      "Enter a number:  5\n"
     ]
    },
    {
     "name": "stdout",
     "output_type": "stream",
     "text": [
      "TypeError: Cannot add number and string together!\n"
     ]
    }
   ],
   "source": [
    "try:\n",
    "    num = int(input(\"Enter a number: \"))   \n",
    "    result = num + \"5\"                     # this code will show the error \n",
    "    print(result)\n",
    "except ValueError:\n",
    "    print(\"ValueError: Please enter numbers only!\")\n",
    "except TypeError:\n",
    "    print(\"TypeError: Cannot add number and string together!\")"
   ]
  },
  {
   "cell_type": "markdown",
   "id": "46bd0e70-53e0-4b71-bea1-76ba52a3f5d1",
   "metadata": {},
   "source": [
    "##### 50.Write a program with finally block that opens and closes a file."
   ]
  },
  {
   "cell_type": "code",
   "execution_count": 37,
   "id": "b787a022-2670-48b2-8de2-87f35f0f5e6a",
   "metadata": {},
   "outputs": [
    {
     "name": "stdout",
     "output_type": "stream",
     "text": [
      "File written successfully.\n",
      "File closed successfully.\n"
     ]
    }
   ],
   "source": [
    "try:\n",
    "    file = open(\"example.txt\", \"w\")\n",
    "    file.write(\"Hello, Python!\")\n",
    "    print(\"File written successfully.\")\n",
    "except Exception as e:\n",
    "    print(\"An error occurred:\", e)\n",
    "finally:\n",
    "    file.close()\n",
    "    print(\"File closed successfully.\")"
   ]
  },
  {
   "cell_type": "code",
   "execution_count": null,
   "id": "d20e97e7-d412-42f3-9cfe-536deed9939a",
   "metadata": {},
   "outputs": [],
   "source": []
  }
 ],
 "metadata": {
  "kernelspec": {
   "display_name": "Python 3 (ipykernel)",
   "language": "python",
   "name": "python3"
  },
  "language_info": {
   "codemirror_mode": {
    "name": "ipython",
    "version": 3
   },
   "file_extension": ".py",
   "mimetype": "text/x-python",
   "name": "python",
   "nbconvert_exporter": "python",
   "pygments_lexer": "ipython3",
   "version": "3.13.5"
  }
 },
 "nbformat": 4,
 "nbformat_minor": 5
}
